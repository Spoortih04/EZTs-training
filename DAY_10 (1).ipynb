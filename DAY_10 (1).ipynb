{
 "cells": [
  {
   "cell_type": "markdown",
   "id": "6235f95d",
   "metadata": {},
   "source": [
    "### DFS"
   ]
  },
  {
   "cell_type": "code",
   "execution_count": 6,
   "id": "f0b1bb4b",
   "metadata": {},
   "outputs": [
    {
     "name": "stdout",
     "output_type": "stream",
     "text": [
      "4\n",
      "8\n",
      "6\n",
      "3\n",
      "5\n",
      "7\n",
      "2\n",
      "1\n"
     ]
    }
   ],
   "source": [
    "def DFS(A,V,S,E):\n",
    "    if V[E]=='F':\n",
    "        S.append(E)\n",
    "        V[E]='T'\n",
    "    else:\n",
    "        return\n",
    "    for i in A[E]:\n",
    "        DFS(A,V,S,i[1])\n",
    "    print(S.pop())   \n",
    "V = {1:'F',2:'F',3:'F',4:'F',5:'F',5:'F',6:'F',7:'F',8:'F'}\n",
    "S = []\n",
    "E=1\n",
    "A = {\n",
    "    1: [(1, 2, 0), (1, 3, 0)],\n",
    "    2: [(2, 1, 0), (2, 7, 0)],\n",
    "    3: [(3, 1, 0), (3, 6, 0), (3, 5, 0)],\n",
    "    4: [(4, 7, 0), (4, 8, 0)],\n",
    "    5: [(5, 3, 0), (5, 7, 0)],\n",
    "    6: [(6, 3, 0), (6, 8, 0)],\n",
    "    7: [(7, 2, 0), (7, 5, 0), (7, 4, 0)],\n",
    "    8: [(8, 4, 0), (8, 6, 0), (8, 8, 0)]\n",
    "}\n",
    "DFS(A, V, S,E)\n",
    "\n"
   ]
  },
  {
   "cell_type": "markdown",
   "id": "ce8d7e49",
   "metadata": {},
   "source": [
    "### BFS"
   ]
  },
  {
   "cell_type": "code",
   "execution_count": 2,
   "id": "5c7c5d42",
   "metadata": {},
   "outputs": [
    {
     "name": "stdout",
     "output_type": "stream",
     "text": [
      "1\n",
      "2\n",
      "3\n",
      "7\n",
      "6\n",
      "5\n",
      "4\n",
      "8\n"
     ]
    }
   ],
   "source": [
    "def BFS(G,e):\n",
    "    Q=[e]\n",
    "    V={}\n",
    "    for i in G.keys():\n",
    "        V[i]=False\n",
    "    V[e]=True   \n",
    "    while len(Q)!=0:\n",
    "        curr=Q.pop(0)\n",
    "        print(curr)\n",
    "        for i in G[curr]:\n",
    "            if V[i[1]]==False:\n",
    "                Q.append(i[1])\n",
    "                V[i[1]]=True\n",
    "G= {\n",
    "    1: [(1, 2, 0), (1, 3, 0)],\n",
    "    2: [(2, 1, 0), (2, 7, 0)],\n",
    "    3: [(3, 1, 0), (3, 6, 0), (3, 5, 0)],\n",
    "    4: [(4, 7, 0), (4, 8, 0)],\n",
    "    5: [(5, 3, 0), (5, 7, 0)],\n",
    "    6: [(6, 3, 0), (6, 8, 0)],\n",
    "    7: [(7, 2, 0), (7, 5, 0), (7, 4, 0)],\n",
    "    8: [(8, 4, 0), (8, 6, 0), (8, 8, 0)]\n",
    "}\n",
    "BFS(G,1)\n",
    "            \n",
    "    "
   ]
  },
  {
   "cell_type": "markdown",
   "id": "b594df32",
   "metadata": {},
   "source": [
    "### Binary search Tree"
   ]
  },
  {
   "cell_type": "code",
   "execution_count": 2,
   "id": "dddec543",
   "metadata": {},
   "outputs": [
    {
     "name": "stdout",
     "output_type": "stream",
     "text": [
      "Sorted list:\n",
      "1 2 3 4 5 6 7 8 9 "
     ]
    }
   ],
   "source": [
    "class node:\n",
    "    def __init__(self,data):\n",
    "        self.value=data\n",
    "        self.left=None\n",
    "        self.right=None\n",
    "        \n",
    "def ins_bst(root,val):\n",
    "    if root==None:\n",
    "        return node(val)\n",
    "        \n",
    "    if val<root.value:\n",
    "        root.left=ins_bst(root.left,val)\n",
    "        \n",
    "    if val>root.value:\n",
    "        root.right=ins_bst(root.right,val)\n",
    "    \n",
    "    return root\n",
    "\n",
    "def inorder(root):\n",
    "    if root:\n",
    "        inorder(root.left)\n",
    "        print(root.value,end=\" \")\n",
    "        inorder(root.right)\n",
    "    \n",
    "    \n",
    "E=[4,6,7,3,8,2,5,9,1]\n",
    "root=node(E.pop(0))\n",
    "#root=None\n",
    "\n",
    "for i in E:\n",
    "    root=ins_bst(root,i)\n",
    "print(\"Sorted list:\")\n",
    "inorder(root)"
   ]
  },
  {
   "cell_type": "code",
   "execution_count": null,
   "id": "2e0ab509",
   "metadata": {},
   "outputs": [],
   "source": []
  }
 ],
 "metadata": {
  "kernelspec": {
   "display_name": "Python 3 (ipykernel)",
   "language": "python",
   "name": "python3"
  },
  "language_info": {
   "codemirror_mode": {
    "name": "ipython",
    "version": 3
   },
   "file_extension": ".py",
   "mimetype": "text/x-python",
   "name": "python",
   "nbconvert_exporter": "python",
   "pygments_lexer": "ipython3",
   "version": "3.11.5"
  }
 },
 "nbformat": 4,
 "nbformat_minor": 5
}
