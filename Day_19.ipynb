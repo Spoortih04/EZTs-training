{
 "cells": [
  {
   "cell_type": "code",
   "execution_count": 1,
   "id": "f4d44e18",
   "metadata": {},
   "outputs": [],
   "source": [
    "#find the min cost using greedy method"
   ]
  },
  {
   "cell_type": "code",
   "execution_count": 11,
   "id": "c013df42",
   "metadata": {},
   "outputs": [
    {
     "name": "stdout",
     "output_type": "stream",
     "text": [
      "Minimum cost path: 14\n"
     ]
    }
   ],
   "source": [
    "def min_cost_path(matrix):\n",
    "    n = len(matrix)\n",
    "    m = len(matrix[0])\n",
    "    \n",
    "    i, j = 0, 0\n",
    "    sum = matrix[i][j] \n",
    "    while i < n - 1 or j < m - 1:\n",
    "        if i == n - 1:  \n",
    "            j += 1\n",
    "        elif j == m - 1:  \n",
    "            i += 1\n",
    "        elif matrix[i][j + 1] < matrix[i + 1][j]: \n",
    "            j += 1\n",
    "        else:\n",
    "            i += 1\n",
    "        sum += matrix[i][j]  \n",
    "    \n",
    "    return sum\n",
    "\n",
    "matrix = [\n",
    "    [1, 3, 1,1],\n",
    "    [2,1,5,2],\n",
    "    [2,4,3,1],\n",
    "    [3,2,3,1]\n",
    "]\n",
    "\n",
    "print(\"Minimum cost path:\", min_cost_path(matrix))\n"
   ]
  },
  {
   "cell_type": "code",
   "execution_count": 12,
   "id": "b623a4f4",
   "metadata": {},
   "outputs": [
    {
     "name": "stdout",
     "output_type": "stream",
     "text": [
      "Minimum Cost: 12\n",
      "Path: [(0, 0), (0, 1), (0, 2), (1, 2), (2, 2), (3, 2)]\n"
     ]
    }
   ],
   "source": [
    "def find_min_cost_path(matrix):\n",
    "    rows = len(matrix)\n",
    "    cols = len(matrix[0])\n",
    "    \n",
    "    path = [(0, 0)]\n",
    "    i, j = 0, 0\n",
    "    total_cost = matrix[i][j]\n",
    "    \n",
    "    while i < rows - 1 or j < cols - 1:\n",
    "        if i == rows - 1:\n",
    "            j += 1\n",
    "        elif j == cols - 1:\n",
    "            i += 1\n",
    "        else:\n",
    "            if matrix[i + 1][j] < matrix[i][j + 1]:\n",
    "                i += 1\n",
    "            else:\n",
    "                j += 1\n",
    "        path.append((i, j))\n",
    "        total_cost += matrix[i][j]\n",
    "    \n",
    "    return total_cost, path\n",
    "\n",
    "matrix = [\n",
    "    [1, 2, 3],\n",
    "    [8, 4, 2],\n",
    "    [1, 5, 3],\n",
    "    [1, 9, 1]\n",
    "]\n",
    "\n",
    "cost, path = find_min_cost_path(matrix)\n",
    "print(f\"Minimum Cost: {cost}\")\n",
    "print(f\"Path: {path}\")"
   ]
  },
  {
   "cell_type": "code",
   "execution_count": null,
   "id": "f9afcea0",
   "metadata": {},
   "outputs": [],
   "source": []
  }
 ],
 "metadata": {
  "kernelspec": {
   "display_name": "Python 3 (ipykernel)",
   "language": "python",
   "name": "python3"
  },
  "language_info": {
   "codemirror_mode": {
    "name": "ipython",
    "version": 3
   },
   "file_extension": ".py",
   "mimetype": "text/x-python",
   "name": "python",
   "nbconvert_exporter": "python",
   "pygments_lexer": "ipython3",
   "version": "3.11.5"
  }
 },
 "nbformat": 4,
 "nbformat_minor": 5
}
