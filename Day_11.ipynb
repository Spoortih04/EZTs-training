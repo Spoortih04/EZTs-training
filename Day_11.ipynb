{
 "cells": [
  {
   "cell_type": "markdown",
   "id": "d04a368e",
   "metadata": {},
   "source": [
    "## AVL Tree"
   ]
  },
  {
   "cell_type": "code",
   "execution_count": 4,
   "id": "3bf93a0b",
   "metadata": {},
   "outputs": [
    {
     "name": "stdout",
     "output_type": "stream",
     "text": [
      "0\n",
      "7\n",
      "12\n",
      "13\n",
      "17\n",
      "19\n",
      "21\n",
      "27\n",
      "34\n",
      "38\n",
      "75\n",
      "99\n",
      "100\n",
      "134\n"
     ]
    }
   ],
   "source": [
    "class node: #class for tree node\n",
    "    def __init__(self,data):\n",
    "        self.val=data\n",
    "        self.left=None\n",
    "        self.right=None\n",
    "        self.height=1\n",
    "        \n",
    "def insert(root,super):\n",
    "    if not root:\n",
    "        return node(super)\n",
    "    if super < root.val:\n",
    "        root.left=insert(root.left,super)\n",
    "    else:\n",
    "        root.right=insert(root.right,super)\n",
    "        \n",
    "    root.height=1+max(ght(root.left),ght(root.right))\n",
    "        \n",
    "    BF=getBF(root)\n",
    "    \n",
    "    #RR Rotation\n",
    "    if BF>1 and super <root.left.val:\n",
    "        return rightRotate(root)\n",
    "    \n",
    "    #RL Rotation\n",
    "    if BF>1 and super >root.left.val:\n",
    "        root.left=leftRotate(root.left)\n",
    "        return rightRotate(root)\n",
    "    \n",
    "    #LL rotation\n",
    "    if BF<-1 and super >root.right.val:\n",
    "        return leftRotate(root)\n",
    "    \n",
    "    #LR rotation\n",
    "    if BF<-1 and super <root.right.val:\n",
    "        root.right=rightRotate(root.right)\n",
    "        return leftRotate(root)\n",
    "    \n",
    "    return root\n",
    "\n",
    "def ght(root):\n",
    "    if not root:\n",
    "        return 0\n",
    "    return root.height\n",
    "\n",
    "def getBF(root):\n",
    "    if not root:\n",
    "        return 0\n",
    "    return ght(root.left)-ght(root.right)\n",
    "\n",
    "def leftRotate(A):\n",
    "    B=A.right\n",
    "    temp=B.left\n",
    "    \n",
    "    B.left=A\n",
    "    A.right=temp\n",
    "    \n",
    "    A.height=1+max(ght(A.left),ght(A.right))\n",
    "    B.height=1+max(ght(B.left),ght(B.right))\n",
    "    \n",
    "    return B\n",
    "def rightRotate(A):\n",
    "    B=A.left\n",
    "    temp=B.right\n",
    "    \n",
    "    B.right=A\n",
    "    A.left=temp\n",
    "    \n",
    "    A.height=1+max(ght(A.left),ght(A.right))\n",
    "    B.height=1+max(ght(B.left),ght(B.right))\n",
    "    \n",
    "    return B\n",
    "    \n",
    "def inorder(root):  #print the data in inorder format\n",
    "    if not root:\n",
    "        return\n",
    "    inorder(root.left)\n",
    "    print(root.val)\n",
    "    inorder(root.right)\n",
    "    \n",
    "if __name__==\"__main__\":\n",
    "    root=None\n",
    "    VL=[19,99,75,7,21,34,38,27,134,100,0,12,17,13]\n",
    "    for i in VL:\n",
    "        root=insert(root,i)\n",
    "    inorder(root)"
   ]
  },
  {
   "cell_type": "markdown",
   "id": "380f3592",
   "metadata": {},
   "source": [
    "### cal the maximum number of commas used when printing the integers from 1 to 100000"
   ]
  },
  {
   "cell_type": "code",
   "execution_count": 11,
   "id": "07e7f425",
   "metadata": {},
   "outputs": [
    {
     "name": "stdout",
     "output_type": "stream",
     "text": [
      "239,968,987\n",
      "2\n"
     ]
    }
   ],
   "source": [
    "n=input()\n",
    "count=n.count(',')\n",
    "print(count)"
   ]
  },
  {
   "cell_type": "code",
   "execution_count": 1,
   "id": "0deac8be",
   "metadata": {},
   "outputs": [
    {
     "name": "stdout",
     "output_type": "stream",
     "text": [
      "Enter a number: 456123\n",
      "The total number of commas used from 1 to 456123 is: 455124\n"
     ]
    }
   ],
   "source": [
    "def count_commas(n):\n",
    "    count = 0\n",
    "    for i in range(1, n + 1):\n",
    "        count += '{:,}'.format(i).count(',')\n",
    "    return count\n",
    "\n",
    "user_input = int(input(\"Enter a number: \"))\n",
    "total_commas = count_commas(user_input)\n",
    "print(f\"The total number of commas used from 1 to {user_input} is: {total_commas}\")\n"
   ]
  },
  {
   "cell_type": "code",
   "execution_count": 1,
   "id": "204d7267",
   "metadata": {},
   "outputs": [
    {
     "name": "stdout",
     "output_type": "stream",
     "text": [
      "The smallest  1\n"
     ]
    }
   ],
   "source": [
    "# Given list\n",
    "lst = [5, 7, -10, -3, 0, 3, -5, 1]\n",
    "small_pos= None\n",
    "for num in lst:\n",
    "    if num > 0: \n",
    "        if small_pos is None  or num < small_pos:\n",
    "            small_pos= num\n",
    "\n",
    "if small_pos is not None:\n",
    "    print(f\"The smallest  {small_pos}\")\n",
    "else:\n",
    "    print(\" no positive .\")\n"
   ]
  },
  {
   "cell_type": "code",
   "execution_count": 2,
   "id": "bb8263ee",
   "metadata": {},
   "outputs": [
    {
     "name": "stdout",
     "output_type": "stream",
     "text": [
      "Enter the no of continious digit: 5\n",
      "result\n",
      "8\n",
      "6\n",
      "-2\n",
      "-1\n",
      "3\n",
      "2\n"
     ]
    }
   ],
   "source": [
    "# contionues sub array\n",
    "l=[4,-1,-3,6,-2,-1,3,2,-8,-2]\n",
    "\n",
    "window = max = 0\n",
    "k = int(input(\"Enter the no of continious digit: \"))\n",
    "\n",
    "for j in range(0,k):\n",
    "        window+=l[j]\n",
    "l.append(0)\n",
    "for i in range(0,len(l)-k):\n",
    "    if max<window:\n",
    "        max=window\n",
    "        pos=i\n",
    "    window = window+l[i+k]-l[i]\n",
    "\n",
    "print(\"result\")\n",
    "print(max)\n",
    "for j in range(0,k):\n",
    "    print(l[pos+j])\n"
   ]
  },
  {
   "cell_type": "code",
   "execution_count": null,
   "id": "379c54cc",
   "metadata": {},
   "outputs": [],
   "source": [
    "# keden's Algothim\n",
    "curr_sum=0\n",
    "max_sum=0\n",
    "for i in range(0,n):\n",
    "    curr_sum+=i\n",
    "    if max<curr:\n",
    "        max++\n",
    "    if curr<0:\n",
    "        curr_sum=0"
   ]
  }
 ],
 "metadata": {
  "kernelspec": {
   "display_name": "Python 3 (ipykernel)",
   "language": "python",
   "name": "python3"
  },
  "language_info": {
   "codemirror_mode": {
    "name": "ipython",
    "version": 3
   },
   "file_extension": ".py",
   "mimetype": "text/x-python",
   "name": "python",
   "nbconvert_exporter": "python",
   "pygments_lexer": "ipython3",
   "version": "3.11.5"
  }
 },
 "nbformat": 4,
 "nbformat_minor": 5
}
