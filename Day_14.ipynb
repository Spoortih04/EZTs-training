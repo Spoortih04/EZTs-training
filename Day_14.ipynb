{
 "cells": [
  {
   "cell_type": "markdown",
   "id": "a08829ac",
   "metadata": {},
   "source": [
    "### knapsack"
   ]
  },
  {
   "cell_type": "code",
   "execution_count": 7,
   "id": "9ce37b55",
   "metadata": {},
   "outputs": [
    {
     "name": "stdout",
     "output_type": "stream",
     "text": [
      "{0: 5.0, 1: 3.3333333333333335, 2: 3.0, 3: 1.75, 4: 8.0, 5: 3.0, 6: 2.0}\n",
      "[(0, 5.0), (1, 3.3333333333333335), (2, 3.0), (3, 1.75), (4, 8.0), (5, 3.0), (6, 2.0)]\n",
      "3.0\n",
      "sorting using lambda fun [(4, 8.0), (0, 5.0), (1, 3.3333333333333335), (2, 3.0), (5, 3.0), (6, 2.0), (3, 1.75)]\n",
      "[(4, 8.0), (0, 5.0), (1, 3.3333333333333335), (2, 3.0), (5, 3.0), (6, 2.0), (3, 1.75)]\n"
     ]
    }
   ],
   "source": [
    "P=[5,10,15,7,8,9,4]\n",
    "W=[1,3,5,4,1,3,2]\n",
    "P_W={}\n",
    "for i in range(len(P)):\n",
    "    P_W[i]=P[i]/W[i]\n",
    "    \n",
    "print(P_W)\n",
    "\n",
    "L=list(P_W.items())\n",
    "print(L)\n",
    "\n",
    "n=len(L)\n",
    "\n",
    "B=lambda x:L[x][1]\n",
    "print(B(2))\n",
    "\n",
    "sorted_list=sorted(L,key=lambda x:x[1],reverse=True)\n",
    "print(\"sorting using lambda fun\",sorted_list)\n",
    "\n",
    "L.sort(key=lambda x:x[1],reverse=True)\n",
    "#for i in range(n-1):\n",
    "#    max=i\n",
    " #   for j in range(i+1,n):\n",
    "  #      if L[j][1]>L[max][1]:\n",
    "   #         max=j\n",
    "    #L[i],L[max]=L[max],L[i]\n",
    "    \n",
    "print(L)\n",
    "sorted_PW={}\n",
    "for i in L:\n",
    "    sorted_PW[i[0]]=i[1]"
   ]
  },
  {
   "cell_type": "code",
   "execution_count": 2,
   "id": "3a7d10d9",
   "metadata": {},
   "outputs": [
    {
     "name": "stdout",
     "output_type": "stream",
     "text": [
      "400\n",
      "16\n"
     ]
    }
   ],
   "source": [
    "#lambda function\n",
    "def a(x):\n",
    "    return x*x\n",
    "#def b(x):\n",
    " #   return x-4\n",
    "\n",
    "b=lambda x:x-4  #anamaous fun  or   b=lambda x,y,z:x+y+z\n",
    "print(a(20))\n",
    "print(b(20))      #     or print(b(20,30,40))\n"
   ]
  },
  {
   "cell_type": "markdown",
   "id": "36cd2b53",
   "metadata": {},
   "source": [
    "### job sequence"
   ]
  },
  {
   "cell_type": "code",
   "execution_count": 13,
   "id": "f29e8688",
   "metadata": {},
   "outputs": [
    {
     "name": "stdout",
     "output_type": "stream",
     "text": [
      "Job sequence: [Job(a, 2, 20), Job(f, 3, 24), Job(g, 3, 27)]\n",
      "Total profit: 71\n"
     ]
    }
   ],
   "source": [
    "class Job:\n",
    "    def __init__(self, job_id, deadline, profit):\n",
    "        self.job_id = job_id\n",
    "        self.deadline = deadline\n",
    "        self.profit = profit\n",
    "\n",
    "    def __repr__(self):\n",
    "        return f\"Job({self.job_id}, {self.deadline}, {self.profit})\"\n",
    "def job_sequencing(jobs):\n",
    "    # Sort jobs based on descending order of profit\n",
    "    jobs.sort(key=lambda x: x.profit, reverse=True)\n",
    "\n",
    "    # Find the maximum deadline to define the range of slots\n",
    "    max_deadline = max(job.deadline for job in jobs)\n",
    "\n",
    "    # Initialize result (sequence of jobs) and free time slots\n",
    "    result = [None] * max_deadline\n",
    "    slot = [False] * max_deadline\n",
    "\n",
    "    # Initialize total profit\n",
    "    total_profit = 0\n",
    "\n",
    "    # Iterate through all given jobs\n",
    "    for job in jobs:\n",
    "        # Find a free slot for this job (starting from the last possible slot)\n",
    "        for j in range(min(max_deadline, job.deadline) - 1, -1, -1):\n",
    "            if not slot[j]:\n",
    "                slot[j] = True\n",
    "                result[j] = job\n",
    "                total_profit += job.profit\n",
    "                break\n",
    "\n",
    "    # Filter out None values and get the job sequence\n",
    "    job_sequence = [job for job in result if job]\n",
    "\n",
    "    return job_sequence, total_profit\n",
    "\n",
    "# Example usage\n",
    "if __name__ == \"__main__\":\n",
    "    jobs = [\n",
    "        Job('a', 2,20),\n",
    "        Job('b', 1,12),\n",
    "        Job('c', 2,16),\n",
    "        Job('d', 1,11),\n",
    "        Job('e', 2,9),\n",
    "        Job('f',3,24),\n",
    "         Job('g',3,27)\n",
    "    ]\n",
    "\n",
    "    sequence, profit = job_sequencing(jobs)\n",
    "    print(f\"Job sequence: {sequence}\")\n",
    "    print(f\"Total profit: {profit}\")\n"
   ]
  },
  {
   "cell_type": "markdown",
   "id": "f39ab89b",
   "metadata": {},
   "source": [
    "### using recursive "
   ]
  },
  {
   "cell_type": "code",
   "execution_count": 9,
   "id": "6006f8ad",
   "metadata": {},
   "outputs": [
    {
     "data": {
      "text/plain": [
       "51"
      ]
     },
     "execution_count": 9,
     "metadata": {},
     "output_type": "execute_result"
    }
   ],
   "source": [
    "def calc_max(P,W,C,n):\n",
    "    if n==0 or C==0:\n",
    "        return 0\n",
    "    \n",
    "    if (W[n-1]>C):\n",
    "        return calc_max(P,W,C,n-1)\n",
    "    else:\n",
    "        return max(P[n-1]+calc_max(P,W,C-W[n-1],n-1),calc_max(P,W,C,n-1))\n",
    "    \n",
    "P=[5,10,15,7,8,9,4]\n",
    "W=[1,3,5,4,1,3,2]\n",
    "C=15\n",
    "n=len(P)\n",
    "calc_max(P,W,C,n)  "
   ]
  },
  {
   "cell_type": "markdown",
   "id": "a6f77a89",
   "metadata": {},
   "source": [
    "### recursion+data storing"
   ]
  },
  {
   "cell_type": "code",
   "execution_count": 4,
   "id": "862a7f4e",
   "metadata": {},
   "outputs": [
    {
     "name": "stdout",
     "output_type": "stream",
     "text": [
      "51\n",
      "[[-1, -1, -1, -1, -1, -1, -1, -1, -1, -1, -1, -1, -1, -1, -1, -1], [-1, 5, 5, 5, 5, 5, 5, 5, 5, 5, 5, 5, 5, 5, 5, 5], [-1, 5, 5, 10, 15, 15, 15, 15, 15, 15, 15, 15, 15, 15, 15, 15], [-1, -1, -1, -1, -1, 15, 20, 20, 25, 30, 30, 30, 30, 30, 30, 30], [-1, -1, -1, -1, -1, -1, -1, -1, -1, 30, 30, 30, 32, 37, 37, 37], [-1, -1, -1, -1, -1, -1, -1, -1, -1, -1, 38, -1, 38, 40, -1, 45], [-1, -1, -1, -1, -1, -1, -1, -1, -1, -1, -1, -1, -1, 47, -1, 47], [-1, -1, -1, -1, -1, -1, -1, -1, -1, -1, -1, -1, -1, -1, -1, 51]]\n"
     ]
    }
   ],
   "source": [
    "def calc_max(P,W,C,n):\n",
    "    if n==0 or C==0:\n",
    "        return 0\n",
    "    if DP[n][C]!=-1:\n",
    "        return DP[n][C]\n",
    "    if (W[n-1]<=C):\n",
    "        DP[n][C]=max(P[n-1]+calc_max(P,W,C-W[n-1],n-1),calc_max(P,W,C,n-1))\n",
    "        return DP[n][C]\n",
    "    else:\n",
    "        DP[n][C]=calc_max(P,W,C,n-1)\n",
    "        return DP[n][C]\n",
    "    \n",
    "P=[5,10,15,7,8,9,4]\n",
    "W=[1,3,5,4,1,3,2]\n",
    "C=15\n",
    "n=len(P)\n",
    "DP=[[-1 for i in range(C+1)]for j in range(n+1)]\n",
    "\n",
    "print(calc_max(P,W,C,n)) \n",
    "print(DP)"
   ]
  },
  {
   "cell_type": "code",
   "execution_count": 14,
   "id": "4e21f4c5",
   "metadata": {},
   "outputs": [
    {
     "name": "stdout",
     "output_type": "stream",
     "text": [
      "[[-1, -1, -1, -1, -1, -1, -1, -1, -1, -1, -1, -1, -1, -1, -1, -1], [-1, -1, -1, -1, -1, -1, -1, -1, -1, -1, -1, -1, -1, -1, -1, -1], [-1, -1, -1, -1, -1, -1, -1, -1, -1, -1, -1, -1, -1, -1, -1, -1], [-1, -1, -1, -1, -1, -1, -1, -1, -1, -1, -1, -1, -1, -1, -1, -1], [-1, -1, -1, -1, -1, -1, -1, -1, -1, -1, -1, -1, -1, -1, -1, -1], [-1, -1, -1, -1, -1, -1, -1, -1, -1, -1, -1, -1, -1, -1, -1, -1], [-1, -1, -1, -1, -1, -1, -1, -1, -1, -1, -1, -1, -1, -1, -1, -1], [-1, -1, -1, -1, -1, -1, -1, -1, -1, -1, -1, -1, -1, -1, -1, -1]]\n"
     ]
    },
    {
     "data": {
      "text/plain": [
       "51"
      ]
     },
     "execution_count": 14,
     "metadata": {},
     "output_type": "execute_result"
    }
   ],
   "source": [
    "def calc_max(P,W,C,n):\n",
    "    if n==0 or C==0:\n",
    "        return 0\n",
    "    \n",
    "    if (W[n-1]>C):\n",
    "        return calc_max(P,W,C,n-1)\n",
    "    else:\n",
    "        return max(P[n-1]+calc_max(P,W,C-W[n-1],n-1),calc_max(P,W,C,n-1))\n",
    "    \n",
    "P=[5,10,15,7,8,9,4]\n",
    "W=[1,3,5,4,1,3,2]\n",
    "C=15\n",
    "n=len(P)\n",
    "DP=[[-1 for i in range(C+1)]for j in range(n+1)]\n",
    "print(DP)\n",
    "calc_max(P,W,C,n)  "
   ]
  },
  {
   "cell_type": "code",
   "execution_count": 20,
   "id": "54dca4b0",
   "metadata": {},
   "outputs": [
    {
     "name": "stdout",
     "output_type": "stream",
     "text": [
      "Maximum value in knapsack = 51\n"
     ]
    }
   ],
   "source": [
    "def knapsack(P, W, C):\n",
    "    n = len(P)\n",
    "    #dp = [[0 for _ in range(C + 1)] for _ in range(n + 1)]\n",
    "              #or\n",
    "    dp = [[0] * (C + 1) for _ in range(n + 1)]\n",
    "    for i in range(1, n + 1):\n",
    "        for c in range(1, C + 1):\n",
    "            if W[i-1] <= c:\n",
    "                dp[i][c] = max(dp[i-1][c], P[i-1]+ dp[i-1][c-W[i-1]] )\n",
    "            else:\n",
    "                dp[i][c] = dp[i-1][c]\n",
    "    \n",
    "    return dp[n][C]\n",
    "\n",
    "P = [5, 10, 15, 7, 8, 9, 4]\n",
    "W = [1, 3, 5, 4, 1, 3, 2]\n",
    "C = 15\n",
    "print(\"Maximum value in knapsack =\", knapsack(P, W, C))\n"
   ]
  },
  {
   "cell_type": "code",
   "execution_count": null,
   "id": "ebad8b3b",
   "metadata": {},
   "outputs": [],
   "source": []
  }
 ],
 "metadata": {
  "kernelspec": {
   "display_name": "Python 3 (ipykernel)",
   "language": "python",
   "name": "python3"
  },
  "language_info": {
   "codemirror_mode": {
    "name": "ipython",
    "version": 3
   },
   "file_extension": ".py",
   "mimetype": "text/x-python",
   "name": "python",
   "nbconvert_exporter": "python",
   "pygments_lexer": "ipython3",
   "version": "3.11.5"
  }
 },
 "nbformat": 4,
 "nbformat_minor": 5
}
