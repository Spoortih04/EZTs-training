{
 "cells": [
  {
   "cell_type": "markdown",
   "id": "260c80cf",
   "metadata": {},
   "source": [
    "##...create student class that holds the details of student like name,usn,marks in 5subj %and grade\n",
    "\n",
    "create 5 student objects and get the data for name usn and marks after that find the percentage and grade and store it to the class objects"
   ]
  },
  {
   "cell_type": "code",
   "execution_count": 1,
   "id": "bf18444e",
   "metadata": {},
   "outputs": [
    {
     "name": "stdout",
     "output_type": "stream",
     "text": [
      "<class '__main__.Std'>\n",
      "Enter your Name: spoorti\n",
      "Enter Your USN: 23\n",
      "Enter Your Marks in Sub1 : 89\n",
      "Enter Your Marks in Sub2 : 90\n",
      "Enter Your Marks in Sub3 : 78\n",
      "Enter Your Marks in Sub4 : 90\n",
      "Enter Your Marks in Sub5 : 78\n",
      "Name:  spoorti\n",
      "USN :  23\n",
      "Marks in Five Subject are :\n",
      "Subject 1 = 89\n",
      "Subject 2 = 90\n",
      "Subject 3 = 78\n",
      "Subject 4 = 90\n",
      "Subject 5 = 78\n",
      "Percentage :  85.0\n",
      "Grade :  A\n",
      "23|spoorti|89,90,78,90,78|85.0|A\n",
      "\n",
      "['23', 'spoorti', ['89', '90', '78', '90', '78'], '85.0', 'A\\n']\n",
      "Name:  spoorti\n",
      "USN :  23\n",
      "Marks in Five Subject are :\n",
      "Subject 1 = 89\n",
      "Subject 2 = 90\n",
      "Subject 3 = 78\n",
      "Subject 4 = 90\n",
      "Subject 5 = 78\n",
      "Percentage :  85.0\n",
      "Grade :  A\n",
      "\n"
     ]
    }
   ],
   "source": [
    "class Std:\n",
    "    def __init__(self): \n",
    "        self.__USN = None\n",
    "        self.__Name = None\n",
    "        self.__Marks = []\n",
    "        self.__Percentage = None\n",
    "        self.__Grade = None\n",
    "\n",
    "    def Std_Input(self):\n",
    "        self.__Name = input(\"Enter your Name: \")\n",
    "        self.__USN = input(\"Enter Your USN: \")\n",
    "        for i in range (0,5):\n",
    "            marks = input(f\"Enter Your Marks in Sub{i+1} : \")\n",
    "            self.__Marks.append(marks)\n",
    "\n",
    "    def calc_percentage (self):\n",
    "        sum = 0\n",
    "        for i in self.__Marks:\n",
    "            sum = sum + int(i)\n",
    "        self.__Percentage = (sum/500)*100\n",
    "\n",
    "    def calc_Grade(self):\n",
    "        per = float(self.__Percentage)\n",
    "        if per<=100 and per >=80:\n",
    "            self.__Grade = \"A\"\n",
    "        elif per<80 and per >=60:\n",
    "            self.__Grade = \"B\"\n",
    "        elif per<60 and per >=40:\n",
    "            self.__Grade = \"C\"\n",
    "        elif per<40 and per >=0:\n",
    "            self.__Grade = \"D\"\n",
    "        else: \n",
    "            self.__Grade = \"Inavlid\"\n",
    "\n",
    "    def print_details(self):\n",
    "        print(\"Name: \",self.__Name)\n",
    "        print(\"USN : \",self.__USN)\n",
    "        print(\"Marks in Five Subject are :\")\n",
    "        for i in range(0,5):\n",
    "            print(f\"Subject {i+1} = {self.__Marks[i]}\")\n",
    "        print(\"Percentage : \", self.__Percentage)\n",
    "        print(\"Grade : \", self.__Grade)\n",
    "\n",
    "    def convert_list(self):\n",
    "        st_list = [self.__USN,self.__Name,self.__Marks,self.__Percentage,self.__Grade]\n",
    "        return st_list\n",
    "\n",
    "    def covert_ob(self,stu_list):\n",
    "        self.__USN = stu_list[0]\n",
    "        self.__Name = stu_list[1]\n",
    "        self.__Marks = stu_list[2]\n",
    "        self.__Percentage = stu_list[3]\n",
    "        self.__Grade = stu_list[4]\n",
    "\n",
    "\n",
    "\n",
    "st1 = Std()\n",
    "\n",
    "print(type(st1))\n",
    "\n",
    "st1.Std_Input()\n",
    "\n",
    "st1.calc_percentage()\n",
    "st1.calc_Grade()\n",
    "\n",
    "st1.print_details()\n",
    "\n",
    "with open(\"student.txt\",'wb') as File:\n",
    "    L=st1.convert_list()\n",
    "    data = f\"{L[0]}|{L[1]}|{L[2][0]},{L[2][1]},{L[2][2]},{L[2][3]},{L[2][4]}|{L[3]}|{L[4]}\\n\"\n",
    "    File.write(data.encode())\n",
    "    File.close()\n",
    "stu_list=[]\n",
    "\n",
    "with open(\"student.txt\",'rb') as File:\n",
    "    data = File.readline().decode('utf-8')\n",
    "    print(data)\n",
    "    for i in data.split(\"|\"):\n",
    "        stu_list.append(i)\n",
    "    mrks=stu_list[2]\n",
    "    mrks_list = []\n",
    "    for i in mrks.split(','):\n",
    "        mrks_list.append(i)\n",
    "    stu_list[2]=mrks_list\n",
    "\n",
    "\n",
    "print(stu_list)\n",
    "st2=Std()\n",
    "st2.covert_ob(stu_list)\n",
    "st2.print_details()\n",
    "    \n"
   ]
  },
  {
   "cell_type": "markdown",
   "id": "7f01ee7e",
   "metadata": {},
   "source": [
    "### voter"
   ]
  },
  {
   "cell_type": "code",
   "execution_count": 2,
   "id": "7ffee68b",
   "metadata": {},
   "outputs": [
    {
     "name": "stdout",
     "output_type": "stream",
     "text": [
      "enter the vote:1 2 3 3\n",
      "1 [1, 0, 0, 0, 0, 0]\n",
      "2 [1, 1, 0, 0, 0, 0]\n",
      "3 [1, 1, 1, 0, 0, 0]\n",
      "3 [1, 1, 2, 0, 0, 0]\n"
     ]
    }
   ],
   "source": [
    "vote=list(map(int,input(\"enter the vote:\").split(\" \")))\n",
    "count=[0]*6\n",
    "for i in vote:\n",
    "    count[i-1]=count[i-1]+1\n",
    "    print(i,count)\n",
    "#print(\"final count\",count)"
   ]
  }
 ],
 "metadata": {
  "kernelspec": {
   "display_name": "Python 3 (ipykernel)",
   "language": "python",
   "name": "python3"
  },
  "language_info": {
   "codemirror_mode": {
    "name": "ipython",
    "version": 3
   },
   "file_extension": ".py",
   "mimetype": "text/x-python",
   "name": "python",
   "nbconvert_exporter": "python",
   "pygments_lexer": "ipython3",
   "version": "3.11.5"
  }
 },
 "nbformat": 4,
 "nbformat_minor": 5
}
