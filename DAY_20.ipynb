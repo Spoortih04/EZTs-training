{
 "cells": [
  {
   "cell_type": "code",
   "execution_count": 1,
   "id": "20290a4e",
   "metadata": {},
   "outputs": [
    {
     "name": "stdout",
     "output_type": "stream",
     "text": [
      "(3, 2)\n",
      "(2, 1)\n",
      "(1, 0)\n"
     ]
    }
   ],
   "source": [
    "q=4\n",
    "i=3\n",
    "for x in zip(range(q-1,-1,-1),range(i-1,-1,-1)):\n",
    "    print(x)"
   ]
  },
  {
   "cell_type": "code",
   "execution_count": 5,
   "id": "b2d0d5d1",
   "metadata": {},
   "outputs": [
    {
     "name": "stdout",
     "output_type": "stream",
     "text": [
      "(1, 2)\n",
      "(2, 3)\n",
      "(3, 4)\n",
      "(4, 5)\n"
     ]
    }
   ],
   "source": [
    "a=[1,2,3,4]\n",
    "b=[2,3,4,5]\n",
    "for i in zip(a,b):\n",
    "    print(i)"
   ]
  },
  {
   "cell_type": "code",
   "execution_count": 6,
   "id": "35528df5",
   "metadata": {},
   "outputs": [
    {
     "name": "stdout",
     "output_type": "stream",
     "text": [
      "[3, 2, 1, 0]\n",
      "[2, 1, 0]\n",
      "(3, 2)\n",
      "(2, 1)\n",
      "(1, 0)\n"
     ]
    }
   ],
   "source": [
    "q=4\n",
    "i=3\n",
    "x=list(range(q-1,-1,-1))\n",
    "print(x)\n",
    "y=list(range(i-1,-1,-1))\n",
    "print(y)\n",
    "for x in zip(range(q-1,-1,-1),range(i-1,-1,-1)):\n",
    "    print(x)"
   ]
  },
  {
   "cell_type": "code",
   "execution_count": 9,
   "id": "17896739",
   "metadata": {},
   "outputs": [
    {
     "name": "stdout",
     "output_type": "stream",
     "text": [
      "Enter the number of queens\n",
      "4\n",
      "[0, 1, 0, 0]\n",
      "[0, 0, 0, 1]\n",
      "[1, 0, 0, 0]\n",
      "[0, 0, 1, 0]\n"
     ]
    }
   ],
   "source": [
    "print (\"Enter the number of queens\")\n",
    "N = int(input())\n",
    "\n",
    "board = [[0]*N for _ in range(N)]\n",
    "def attack(i, j):\n",
    "    for k in range(0,N):\n",
    "        if board[i][k]==1 or board[k][j]==1:\n",
    "            return True\n",
    "    for k in range(0,N):\n",
    "        for l in range(0,N):\n",
    "            if (k+l==i+j) or (k-l==i-j):\n",
    "                if board[k][l]==1:\n",
    "                    return True\n",
    "    return False\n",
    "def N_queens(n):\n",
    "    if n==0:\n",
    "        return True\n",
    "    for i in range(0,N):\n",
    "        for j in range(0,N):\n",
    "             if (not(attack(i,j))) and (board[i][j]!=1):\n",
    "                    board[i][j] = 1\n",
    "                    if N_queens(n-1)==True:\n",
    "                         return True\n",
    "                    board[i][j] = 0\n",
    "    return False\n",
    "N_queens(N)\n",
    "for i in board:\n",
    "     print (i)  \n"
   ]
  },
  {
   "cell_type": "code",
   "execution_count": 14,
   "id": "7af45aa7",
   "metadata": {},
   "outputs": [
    {
     "name": "stdout",
     "output_type": "stream",
     "text": [
      "Enter the number of queens:\n",
      "4\n",
      "0 1 0 0\n",
      "0 0 0 1\n",
      "1 0 0 0\n",
      "0 0 1 0\n",
      "\n",
      "0 0 1 0\n",
      "1 0 0 0\n",
      "0 0 0 1\n",
      "0 1 0 0\n",
      "\n"
     ]
    }
   ],
   "source": [
    "def print_board(board):\n",
    "    for row in board:\n",
    "        print(\" \".join(str(col) for col in row))\n",
    "    print()\n",
    "    \n",
    "def is_safe(board, row, col, N):\n",
    "    for i in range(row):\n",
    "        if board[i][col] == 1:\n",
    "            return False\n",
    "    for i, j in zip(range(row, -1, -1), range(col, -1, -1)):\n",
    "        if board[i][j] == 1:\n",
    "            return False\n",
    "    for i, j in zip(range(row, -1, -1), range(col, N)):\n",
    "        if board[i][j] == 1:\n",
    "            return False\n",
    "    return True\n",
    "\n",
    "def solve_n_queens(board, row, N):\n",
    "    if row == N:\n",
    "        print_board(board)\n",
    "        return True\n",
    "    res = False\n",
    "    for col in range(N):\n",
    "        if is_safe(board, row, col, N):\n",
    "            board[row][col] = 1\n",
    "            res = solve_n_queens(board, row + 1, N) or res\n",
    "            board[row][col] = 0  # Backtrack\n",
    "    return res\n",
    "print(\"Enter the number of queens:\")\n",
    "N = int(input())\n",
    "board = [[0] * N for _ in range(N)]\n",
    "\n",
    "if not solve_n_queens(board, 0, N):\n",
    "    print(\"Solution does not exist\")\n"
   ]
  },
  {
   "cell_type": "code",
   "execution_count": 1,
   "id": "9456dcc5",
   "metadata": {},
   "outputs": [
    {
     "name": "stdout",
     "output_type": "stream",
     "text": [
      "The minimum number of coins required to pay the bill of 18 is: 6\n"
     ]
    }
   ],
   "source": [
    "def min_coins(bill, denominations):\n",
    "    denominations.sort(reverse=True)  \n",
    "    count = 0  \n",
    "    for coin in denominations:\n",
    "        count += bill // coin  \n",
    "        bill %= coin  \n",
    "    return count\n",
    "bill = 18\n",
    "denominations = [1, 5, 7]\n",
    "\n",
    "result = min_coins(bill, denominations)\n",
    "print(f\"The minimum number of coins required to pay the bill of {bill} is: {result}\")\n"
   ]
  },
  {
   "cell_type": "code",
   "execution_count": null,
   "id": "e239d798",
   "metadata": {},
   "outputs": [],
   "source": [
    "# using greedy approach\n",
    "\n",
    "b=18\n",
    "c=0\n",
    "i=0\n",
    "while(b>0):\n",
    "    if b>=L[i] and i<key[L]\n",
    "        c=1\n",
    "    else:\n",
    "        i++"
   ]
  }
 ],
 "metadata": {
  "kernelspec": {
   "display_name": "Python 3 (ipykernel)",
   "language": "python",
   "name": "python3"
  },
  "language_info": {
   "codemirror_mode": {
    "name": "ipython",
    "version": 3
   },
   "file_extension": ".py",
   "mimetype": "text/x-python",
   "name": "python",
   "nbconvert_exporter": "python",
   "pygments_lexer": "ipython3",
   "version": "3.11.5"
  }
 },
 "nbformat": 4,
 "nbformat_minor": 5
}
