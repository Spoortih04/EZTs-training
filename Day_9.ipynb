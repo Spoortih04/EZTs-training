{
 "cells": [
  {
   "cell_type": "markdown",
   "id": "0c9b1884",
   "metadata": {},
   "source": [
    "# Tree"
   ]
  },
  {
   "cell_type": "markdown",
   "id": "0a8c2db2",
   "metadata": {},
   "source": [
    "### preoder"
   ]
  },
  {
   "cell_type": "code",
   "execution_count": 1,
   "id": "958a4ced",
   "metadata": {},
   "outputs": [
    {
     "name": "stdout",
     "output_type": "stream",
     "text": [
      "1\n",
      "2\n",
      "4\n",
      "5\n",
      "3\n",
      "6\n",
      "7\n"
     ]
    }
   ],
   "source": [
    "class node:\n",
    "    def __init__(self,data):\n",
    "        self.value=data\n",
    "        self.left=None\n",
    "        self.right=None\n",
    "    \n",
    "def preorder(root):\n",
    "    if root==None:\n",
    "        return\n",
    "    print(root.value)\n",
    "    preorder(root.left)\n",
    "    preorder(root.right)\n",
    "\n",
    "if __name__==\"__main__\":\n",
    "    root=node(1)\n",
    "    \n",
    "    root.left=node(2)\n",
    "    root.right=node(3)\n",
    "    \n",
    "    root.left.left=node(4)\n",
    "    root.left.right=node(5)\n",
    "    \n",
    "    root.right.left=node(6)\n",
    "    root.right.right=node(7)\n",
    "    \n",
    "preorder(root)  "
   ]
  },
  {
   "cell_type": "markdown",
   "id": "4d9fc755",
   "metadata": {},
   "source": [
    "### Postorder"
   ]
  },
  {
   "cell_type": "code",
   "execution_count": 2,
   "id": "ac4cc0c4",
   "metadata": {},
   "outputs": [
    {
     "name": "stdout",
     "output_type": "stream",
     "text": [
      "4\n",
      "5\n",
      "2\n",
      "6\n",
      "7\n",
      "3\n",
      "1\n"
     ]
    }
   ],
   "source": [
    "class node:\n",
    "    def __init__(self,data):\n",
    "        self.value=data\n",
    "        self.left=None\n",
    "        self.right=None\n",
    "    \n",
    "def postorder(root):\n",
    "    if root==None:\n",
    "        return\n",
    "    \n",
    "    postorder(root.left)\n",
    "    postorder(root.right)\n",
    "    print(root.value)\n",
    "\n",
    "if __name__==\"__main__\":\n",
    "    root=node(1)\n",
    "    \n",
    "    root.left=node(2)\n",
    "    root.right=node(3)\n",
    "    \n",
    "    root.left.left=node(4)\n",
    "    root.left.right=node(5)\n",
    "    \n",
    "    root.right.left=node(6)\n",
    "    root.right.right=node(7)\n",
    "    \n",
    "postorder(root)  "
   ]
  },
  {
   "cell_type": "markdown",
   "id": "e3af6ea3",
   "metadata": {},
   "source": [
    "### inorder"
   ]
  },
  {
   "cell_type": "code",
   "execution_count": 3,
   "id": "fe71f846",
   "metadata": {},
   "outputs": [
    {
     "name": "stdout",
     "output_type": "stream",
     "text": [
      "4\n",
      "2\n",
      "5\n",
      "1\n",
      "6\n",
      "3\n",
      "7\n"
     ]
    }
   ],
   "source": [
    "class node:\n",
    "    def __init__(self,data):\n",
    "        self.value=data\n",
    "        self.left=None\n",
    "        self.right=None\n",
    "    \n",
    "def inorder(root):\n",
    "    if root==None:\n",
    "        return\n",
    "    \n",
    "    inorder(root.left)\n",
    "    print(root.value)\n",
    "    inorder(root.right)\n",
    "\n",
    "if __name__==\"__main__\":\n",
    "    root=node(1)\n",
    "    \n",
    "    root.left=node(2)\n",
    "    root.right=node(3)\n",
    "    \n",
    "    root.left.left=node(4)\n",
    "    root.left.right=node(5)\n",
    "    \n",
    "    root.right.left=node(6)\n",
    "    root.right.right=node(7)\n",
    "    \n",
    "inorder(root)  "
   ]
  },
  {
   "cell_type": "markdown",
   "id": "e25c3cf8",
   "metadata": {},
   "source": [
    "### level order"
   ]
  },
  {
   "cell_type": "code",
   "execution_count": 14,
   "id": "afe71a66",
   "metadata": {},
   "outputs": [
    {
     "name": "stdout",
     "output_type": "stream",
     "text": [
      "4\n",
      "2\n",
      "1\n",
      "3\n",
      "7\n",
      "11\n",
      "{0: 1, -1: 2, 1: 3, -2: 4, 2: 7, 3: 11}\n",
      "1 \n",
      "2 3 \n",
      "4 5 6 7 \n",
      "9 10 11 \n",
      "12 13 "
     ]
    }
   ],
   "source": [
    "# time=O(n)\n",
    "class node:\n",
    "    def __init__(self,data):\n",
    "        self.value=data\n",
    "        self.left=None\n",
    "        self.right=None\n",
    "\n",
    "def level_order(root):\n",
    "    Q=[root]\n",
    "    Q.append(None)\n",
    "    \n",
    "    while len(Q)>0:\n",
    "        curr=Q.pop(0)\n",
    "        \n",
    "        if curr==None:\n",
    "            if len(Q)==0:\n",
    "                break\n",
    "            else:\n",
    "                print()\n",
    "                Q.append(None)\n",
    "        else:\n",
    "            print(curr.value,end=\" \")\n",
    "            if curr.left!=None:\n",
    "                Q.append(curr.left)\n",
    "            if curr.right!=None:\n",
    "                Q.append(curr.right)\n",
    "\n",
    "if __name__==\"__main__\":\n",
    "    root=node(1)\n",
    "    \n",
    "    root.left=node(2)\n",
    "    root.right=node(3)\n",
    "    \n",
    "    root.left.left=node(4)\n",
    "    root.left.right=node(5)\n",
    "    \n",
    "    root.right.left=node(6)\n",
    "    root.right.right=node(7)\n",
    "    \n",
    "    root.left.right.left=node(9)\n",
    "    root.left.right.right=node(10)\n",
    "    \n",
    "    root.right.right.right=node(11)\n",
    "    \n",
    "    root.left.right.left.left=node(12)\n",
    "    root.left.right.left.right=node(13)\n",
    "level_order(root)"
   ]
  },
  {
   "cell_type": "markdown",
   "id": "5149cea8",
   "metadata": {},
   "source": [
    "### find the hieght"
   ]
  },
  {
   "cell_type": "code",
   "execution_count": 5,
   "id": "f12ba702",
   "metadata": {},
   "outputs": [
    {
     "data": {
      "text/plain": [
       "7"
      ]
     },
     "execution_count": 5,
     "metadata": {},
     "output_type": "execute_result"
    }
   ],
   "source": [
    "class node:\n",
    "    def __init__(self,data):\n",
    "        self.value=data\n",
    "        self.left=None\n",
    "        self.right=None\n",
    "        \n",
    "def Height(root):\n",
    "    if root==None:\n",
    "        return 0\n",
    "    LH=Height(root.left)\n",
    "    RH=Height(root.right)\n",
    "    return max(LH,RH)+1\n",
    "\n",
    "if __name__==\"__main__\":\n",
    "    root=node(1)\n",
    "    \n",
    "    root.left=node(2)\n",
    "    root.right=node(5)\n",
    "    \n",
    "    root.left.left=node(3)\n",
    "    root.left.right=node(4)\n",
    "    \n",
    "    #root.right.left=node(6)\n",
    "    root.right.right=node(6)\n",
    "    \n",
    "    root.left.right.left=node(9)\n",
    "    root.right.right.left=node(7)\n",
    "    root.right.right.right=node(8)\n",
    "    \n",
    "    root.left.right.left.right=node(10)\n",
    "    \n",
    "    root.right.right.left.right=node(11)\n",
    "    \n",
    "    root.left.right.left.right.left=node(14)\n",
    "    root.right.right.left.right.left=node(12)\n",
    "    \n",
    "    root.right.right.left.right.left.right=node(13)\n",
    "Height(root)"
   ]
  },
  {
   "cell_type": "markdown",
   "id": "3dbacc0f",
   "metadata": {},
   "source": [
    "### topview"
   ]
  },
  {
   "cell_type": "code",
   "execution_count": 7,
   "id": "373fba97",
   "metadata": {},
   "outputs": [
    {
     "name": "stdout",
     "output_type": "stream",
     "text": [
      "3\n",
      "2\n",
      "1\n",
      "5\n",
      "6\n",
      "8\n",
      "{0: 1, -1: 2, 1: 5, -2: 3, 2: 6, 3: 8}\n"
     ]
    }
   ],
   "source": [
    "#VIEW\n",
    "#Top view \n",
    "\n",
    "class node_data:\n",
    "    def __init__(self,Node,HKey):\n",
    "        self.node=Node\n",
    "        self.hkey=HKey\n",
    "\n",
    "def topview(root):        \n",
    "    temp=node_data(root,0) \n",
    "    Q=[temp]\n",
    "    Q.append(None)\n",
    "    Key_Dict = {}\n",
    "    while len(Q) != 0:\n",
    "        curr = Q.pop(0)\n",
    "        \n",
    "        if curr == None:\n",
    "            if len(Q) == 0:\n",
    "                break\n",
    "            else:\n",
    "                Q.append(None)\n",
    "        else:\n",
    "            if curr.hkey not in Key_Dict.keys():\n",
    "                Key_Dict[curr.hkey] = curr.node.value\n",
    "            \n",
    "            if curr.node.left != None:\n",
    "                temp = node_data(curr.node.left,curr.hkey-1)\n",
    "                Q.append(temp)\n",
    "            \n",
    "            if curr.node.right != None:\n",
    "                temp = node_data(curr.node.right,curr.hkey+1)\n",
    "                Q.append(temp)\n",
    "    for i in sorted(Key_Dict):\n",
    "        print(Key_Dict[i])\n",
    "    print(Key_Dict)\n",
    "topview(root)"
   ]
  },
  {
   "cell_type": "markdown",
   "id": "0249ec78",
   "metadata": {},
   "source": [
    "## bottom view"
   ]
  },
  {
   "cell_type": "code",
   "execution_count": 9,
   "id": "cbf4646d",
   "metadata": {},
   "outputs": [
    {
     "name": "stdout",
     "output_type": "stream",
     "text": [
      "3\n",
      "14\n",
      "10\n",
      "12\n",
      "13\n",
      "8\n",
      "{0: 10, -1: 14, 1: 12, -2: 3, 2: 13, 3: 8}\n"
     ]
    }
   ],
   "source": [
    "class node_data:\n",
    "    def __init__(self,Node,HKey):\n",
    "        self.node=Node\n",
    "        self.hkey=HKey\n",
    "\n",
    "def bottomview(root):        \n",
    "    temp=node_data(root,0) \n",
    "    Q=[temp]\n",
    "    Q.append(None)\n",
    "    Key_Dict = {}\n",
    "    while len(Q) != 0:\n",
    "        curr = Q.pop(0)\n",
    "        \n",
    "        if curr == None:\n",
    "            if len(Q) == 0:\n",
    "                break\n",
    "            else:\n",
    "                Q.append(None)\n",
    "        else:\n",
    "            #if curr.hkey not in Key_Dict.keys():\n",
    "            Key_Dict[curr.hkey] = curr.node.value\n",
    "            \n",
    "            if curr.node.left != None:\n",
    "                temp = node_data(curr.node.left,curr.hkey-1)\n",
    "                Q.append(temp)\n",
    "            \n",
    "            if curr.node.right != None:\n",
    "                temp = node_data(curr.node.right,curr.hkey+1)\n",
    "                Q.append(temp)\n",
    "    for i in sorted(Key_Dict):\n",
    "        print(Key_Dict[i])\n",
    "    print(Key_Dict)\n",
    "bottomview(root)"
   ]
  },
  {
   "cell_type": "markdown",
   "id": "740d2210",
   "metadata": {},
   "source": [
    "### left view"
   ]
  },
  {
   "cell_type": "code",
   "execution_count": 17,
   "id": "6eadf28a",
   "metadata": {},
   "outputs": [
    {
     "name": "stdout",
     "output_type": "stream",
     "text": [
      "1\n",
      "2\n",
      "4\n",
      "9\n",
      "12\n"
     ]
    }
   ],
   "source": [
    "class node:\n",
    "    def __init__(self,data):\n",
    "        self.value=data\n",
    "        self.left=None\n",
    "        self.right=None\n",
    "\n",
    "def left_view(root):\n",
    "    Q=[root]\n",
    "    Q.append(None)\n",
    "    \n",
    "    while len(Q)>0:\n",
    "        curr=Q.pop(0)\n",
    "        \n",
    "        if curr==None:\n",
    "            if len(Q)==0:\n",
    "                break\n",
    "            else:\n",
    "                print(Q[0].value)\n",
    "                Q.append(None)\n",
    "        else:\n",
    "            #print(curr.value,end=\" \")\n",
    "            if curr.left!=None:\n",
    "                Q.append(curr.left)\n",
    "            if curr.right!=None:\n",
    "                Q.append(curr.right)\n",
    "\n",
    "if __name__==\"__main__\":\n",
    "    root=node(1)\n",
    "    \n",
    "    root.left=node(2)\n",
    "    root.right=node(3)\n",
    "    \n",
    "    root.left.left=node(4)\n",
    "    root.left.right=node(5)\n",
    "    \n",
    "    root.right.left=node(6)\n",
    "    root.right.right=node(7)\n",
    "    \n",
    "    root.left.right.left=node(9)\n",
    "    root.left.right.right=node(10)\n",
    "    \n",
    "    root.right.right.right=node(11)\n",
    "    \n",
    "    root.left.right.left.left=node(12)\n",
    "    root.left.right.left.right=node(13)\n",
    "    print(root.value)\n",
    "left_view(root)"
   ]
  },
  {
   "cell_type": "code",
   "execution_count": null,
   "id": "8096bbc8",
   "metadata": {},
   "outputs": [],
   "source": []
  }
 ],
 "metadata": {
  "kernelspec": {
   "display_name": "Python 3 (ipykernel)",
   "language": "python",
   "name": "python3"
  },
  "language_info": {
   "codemirror_mode": {
    "name": "ipython",
    "version": 3
   },
   "file_extension": ".py",
   "mimetype": "text/x-python",
   "name": "python",
   "nbconvert_exporter": "python",
   "pygments_lexer": "ipython3",
   "version": "3.11.5"
  }
 },
 "nbformat": 4,
 "nbformat_minor": 5
}
