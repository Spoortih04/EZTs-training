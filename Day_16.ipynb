{
 "cells": [
  {
   "cell_type": "markdown",
   "id": "5e1dffb2",
   "metadata": {},
   "source": [
    "### Bellman ford\n",
    "\n",
    "using dynamic method\n",
    "\n",
    "time compxis v*E"
   ]
  },
  {
   "cell_type": "code",
   "execution_count": 4,
   "id": "536d88f5",
   "metadata": {},
   "outputs": [
    {
     "name": "stdout",
     "output_type": "stream",
     "text": [
      "[(0, 1), (0, 2), (0, 3), (1, 4), (2, 1), (2, 4), (3, 2), (3, 5), (4, 5)]\n",
      "{0: 0, 1: inf, 2: inf, 3: inf, 4: inf, 5: inf}\n",
      "{0: 0, 1: 1, 2: 3, 3: 5, 4: 0, 5: 3}\n"
     ]
    }
   ],
   "source": [
    "#shortest distance from single source\n",
    "\n",
    "G=[\n",
    "    [0,6,4,5,False,False],\n",
    "    [False,0,False,False,-1,False],\n",
    "    [False,-2,0,False,3,False],\n",
    "    [False,False,-2,0,False,-1],\n",
    "    [False,False,False,False,0,3],\n",
    "    [False,False,False,False,False,0]\n",
    "]\n",
    "\n",
    "#d={0:\"A\",1:\"B\",2:\"c\",3:\"D\",4:\"E\",5:\"F\"}\n",
    "E_L=[]\n",
    "for i in range(len(G)):\n",
    "    for j in range(len(G[i])):\n",
    "        if G[i][j]!=False and G[i][j]!=0:\n",
    "            E_L.append(tuple((i,j)))\n",
    "            \n",
    "print(E_L)    \n",
    "dist={}\n",
    "for i in range(len(G)):\n",
    "    dist[i]=float(\"inf\")\n",
    "dist[0]=0   \n",
    "print(dist)\n",
    "\n",
    "\n",
    "for i in range(len(G)-1):\n",
    "    for j in E_L:\n",
    "        new_dist=dist[j[0]]+G[j[0]][j[1]]\n",
    "        if dist[j[1]]>new_dist:\n",
    "            dist[j[1]]=new_dist\n",
    "            \n",
    "print(dist)"
   ]
  },
  {
   "cell_type": "markdown",
   "id": "0d90535a",
   "metadata": {},
   "source": [
    "### Dijkastra's algo           \n",
    "is very imp topic in interview \n",
    "\n",
    "ex:zomato etc...used this\n",
    "\n",
    "using greedy method \n"
   ]
  },
  {
   "cell_type": "code",
   "execution_count": 3,
   "id": "3c08bb61",
   "metadata": {},
   "outputs": [
    {
     "name": "stdout",
     "output_type": "stream",
     "text": [
      "[0, 6, 10, 5, 8, 11, 8, 2, 16, 10]\n"
     ]
    }
   ],
   "source": [
    "G=[\n",
    "        [0, 7, False, False, False, False, False, 2, False, False],\n",
    "        [7, 0,  4,  1, False,  5, False,False, False, False],\n",
    "        [False, 4, 0, False, False, False, False, 8, False, False],\n",
    "        [False, 1, False, 0,  6,  8,  3, 3, False, False],\n",
    "        [False, False,False, 6,  0, False, False, 6,  8, False],\n",
    "        [False, 5, False, 8, False,  0, False,False, False, False],\n",
    "        [False, False,False, 3, False, False,  0, False, 9,  2],\n",
    "        [2, False, 8,  3,  6, False, False, 0, False, False],\n",
    "        [False,False,False, False,  8, False,  9, False, 0, False],\n",
    "        [False,False,False, False, False, False,  2,  False,False, 0]\n",
    "    ]  \n",
    "temp={}\n",
    "for i in range(len(G)):\n",
    "    temp[i]=float(\"inf\")\n",
    "    \n",
    "Dist=[float(\"inf\")]*len(G)\n",
    "temp[0]=0                  #consider the start index as 0\n",
    "\n",
    "while len(temp)>0:\n",
    "    min_value=min(temp.values())\n",
    "    min_key=min(temp,key=temp.get)\n",
    "    temp.pop(min_key)\n",
    "    Dist[min_key]=min_value\n",
    "    \n",
    "    for j in range(len(G[min_key])):\n",
    "        if G[min_key][j]!=False and G[min_key][j]!=0:\n",
    "            new_dist=min_value+G[min_key][j]\n",
    "            if j in temp.keys() and temp[j]>new_dist:\n",
    "                temp[j]=new_dist\n",
    "print(Dist) "
   ]
  },
  {
   "cell_type": "markdown",
   "id": "6ed46561",
   "metadata": {},
   "source": [
    "# Travelling Salesman Problem"
   ]
  },
  {
   "cell_type": "code",
   "execution_count": 15,
   "id": "1999d2ec",
   "metadata": {},
   "outputs": [
    {
     "name": "stdout",
     "output_type": "stream",
     "text": [
      "minimum cost 19\n",
      "(3, (0, 1, 2, 3))\n",
      "(4, (0, 1, 2, 4))\n",
      "(2, (0, 1, 2))\n",
      "(2, (0, 1, 3, 2))\n",
      "(4, (0, 1, 3, 4))\n",
      "(3, (0, 1, 3))\n",
      "(2, (0, 1, 4, 2))\n",
      "(3, (0, 1, 4, 3))\n",
      "(4, (0, 1, 4))\n",
      "(1, (0, 1))\n",
      "(3, (0, 2, 1, 3))\n",
      "(4, (0, 2, 1, 4))\n",
      "(1, (0, 2, 1))\n",
      "(1, (0, 2, 3, 1))\n",
      "(4, (0, 2, 3, 4))\n",
      "(3, (0, 2, 3))\n",
      "(1, (0, 2, 4, 1))\n",
      "(3, (0, 2, 4, 3))\n",
      "(4, (0, 2, 4))\n",
      "(2, (0, 2))\n",
      "(2, (0, 3, 1, 2))\n",
      "(4, (0, 3, 1, 4))\n",
      "(1, (0, 3, 1))\n",
      "(1, (0, 3, 2, 1))\n",
      "(4, (0, 3, 2, 4))\n",
      "(2, (0, 3, 2))\n",
      "(1, (0, 3, 4, 1))\n",
      "(2, (0, 3, 4, 2))\n",
      "(4, (0, 3, 4))\n",
      "(3, (0, 3))\n",
      "(2, (0, 4, 1, 2))\n",
      "(3, (0, 4, 1, 3))\n",
      "(1, (0, 4, 1))\n",
      "(1, (0, 4, 2, 1))\n",
      "(3, (0, 4, 2, 3))\n",
      "(2, (0, 4, 2))\n",
      "(1, (0, 4, 3, 1))\n",
      "(2, (0, 4, 3, 2))\n",
      "(3, (0, 4, 3))\n",
      "(4, (0, 4))\n",
      "(0, (0,))\n"
     ]
    }
   ],
   "source": [
    "import sys\n",
    "def Cost(curr,visited,G,DP):\n",
    "    n=len(G)\n",
    "    \n",
    "    if len(visited)==n:\n",
    "        return G[curr][0]\n",
    "   \n",
    "    visit=tuple(visited)\n",
    "    \n",
    "    if (curr,visit) in DP:\n",
    "        return DP[curr,visit]\n",
    "    \n",
    "    min_cost=sys.maxsize\n",
    "    for i in range (n):\n",
    "        if i not in visited:\n",
    "            new_visit=visited+[i]\n",
    "            new_cost=G[curr][i]+Cost(i,new_visit,G,DP)\n",
    "            min_cost=min(min_cost,new_cost)\n",
    "    DP[(curr,visit)]=min_cost\n",
    "    return min_cost\n",
    "        \n",
    "G=[\n",
    "    [0,4,7,5,5],\n",
    "    [4,0,2,3,8],\n",
    "    [7,2,0,3,4],\n",
    "    [5,3,3,0,6],\n",
    "    [5,8,4,6,0]\n",
    "]\n",
    "n=len(G)\n",
    "DP={}\n",
    "print(\"minimum cost\",Cost(0,[0],G,DP))\n",
    "for i  in DP:\n",
    "    print(i)"
   ]
  },
  {
   "cell_type": "code",
   "execution_count": 2,
   "id": "b7dcf4d9",
   "metadata": {},
   "outputs": [
    {
     "name": "stdout",
     "output_type": "stream",
     "text": [
      "Repeated sequences of length 1: {'A': 3, 'B': 4, 'C': 5, 'D': 8, 'N': 2, 'H': 5, 'K': 2, 'F': 2, 'J': 3, 'I': 2, 'E': 6, 'M': 3}\n"
     ]
    }
   ],
   "source": [
    "def find_repeated_sequences(s, length):\n",
    "    \n",
    "    seq_dict = {}\n",
    "\n",
    "    \n",
    "    for i in range(len(s) - length + 1):\n",
    "        seq = s[i:i+length]\n",
    "        if seq in seq_dict:\n",
    "            seq_dict[seq] += 1\n",
    "        else:\n",
    "            seq_dict[seq] = 1\n",
    "\n",
    "   \n",
    "    repeated_sequences = {seq: count for seq, count in seq_dict.items() if count > 1}\n",
    "    return repeated_sequences\n",
    "\n",
    "# Given string\n",
    "P = \"ABCDADCBDCADCDBNHKFJKHJHDYJTIEMMEMHDHFUEDERIENCBGE\"\n",
    "\n",
    "\n",
    "length = 1\n",
    "\n",
    "\n",
    "repeated_sequences = find_repeated_sequences(P, length)\n",
    "print(\"Repeated sequences of length {}: {}\".format(length, repeated_sequences))\n"
   ]
  },
  {
   "cell_type": "code",
   "execution_count": null,
   "id": "8480c4a7",
   "metadata": {},
   "outputs": [],
   "source": []
  }
 ],
 "metadata": {
  "kernelspec": {
   "display_name": "Python 3 (ipykernel)",
   "language": "python",
   "name": "python3"
  },
  "language_info": {
   "codemirror_mode": {
    "name": "ipython",
    "version": 3
   },
   "file_extension": ".py",
   "mimetype": "text/x-python",
   "name": "python",
   "nbconvert_exporter": "python",
   "pygments_lexer": "ipython3",
   "version": "3.11.5"
  }
 },
 "nbformat": 4,
 "nbformat_minor": 5
}
