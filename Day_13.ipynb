{
 "cells": [
  {
   "cell_type": "markdown",
   "id": "b430d1ac",
   "metadata": {},
   "source": [
    "### knapsack problem"
   ]
  },
  {
   "cell_type": "code",
   "execution_count": 1,
   "id": "60cd4213",
   "metadata": {},
   "outputs": [
    {
     "name": "stdout",
     "output_type": "stream",
     "text": [
      "Maximum profit in Knapsack = 65\n"
     ]
    }
   ],
   "source": [
    "def knapsack(weights, profit, capacity):\n",
    "    n = len(weights)\n",
    "    dp = [0] * (capacity + 1)\n",
    "    for i in range(n):\n",
    "        for j in range(capacity, weights[i] - 1, -1):\n",
    "            dp[j] = max(dp[j], profit[i] + dp[j - weights[i]])\n",
    "    return dp[capacity]\n",
    "\n",
    "weights = [1, 2, 3, 5]\n",
    "profit = [10, 15, 40, 50]\n",
    "capacity = 6\n",
    "\n",
    "print(\"Maximum profit in Knapsack =\", knapsack(weights, profit, capacity))\n"
   ]
  },
  {
   "cell_type": "code",
   "execution_count": 2,
   "id": "b333a90b",
   "metadata": {},
   "outputs": [
    {
     "name": "stdout",
     "output_type": "stream",
     "text": [
      "price: 1,5,3,4,9,5\n",
      "weight: 12,32,34,54,23,14\n",
      "max wt of knap: 30\n",
      "[0.08333333333333333]\n",
      "[0.08333333333333333, 0.15625]\n",
      "[0.08333333333333333, 0.15625, 0.08823529411764706]\n",
      "[0.08333333333333333, 0.15625, 0.08823529411764706, 0.07407407407407407]\n",
      "[0.08333333333333333, 0.15625, 0.08823529411764706, 0.07407407407407407, 0.391304347826087]\n",
      "[0.08333333333333333, 0.15625, 0.08823529411764706, 0.07407407407407407, 0.391304347826087, 0.35714285714285715]\n",
      "14.0\n"
     ]
    }
   ],
   "source": [
    "price=list(map(float,input(\"price: \").split(',')))\n",
    "weight=list(map(float,input(\"weight: \").split(',')))\n",
    "profit=0\n",
    "max_weight=int(input(\"max wt of knap: \"))\n",
    "profit_ratio=[]\n",
    "for i in range(len(price)):\n",
    "    profit_ratio.append(price[i]/weight[i])\n",
    "    print(profit_ratio)\n",
    "while max_weight>0:\n",
    "    index=profit_ratio.index(max(profit_ratio))\n",
    "    max_weight-=weight[index]\n",
    "    profit+=price[index]\n",
    "    price.pop(index)\n",
    "    profit_ratio.pop(index)\n",
    "    weight.pop(index)\n",
    "       \n",
    "    \n",
    "print(profit)"
   ]
  },
  {
   "cell_type": "code",
   "execution_count": null,
   "id": "3613096e",
   "metadata": {},
   "outputs": [],
   "source": []
  }
 ],
 "metadata": {
  "kernelspec": {
   "display_name": "Python 3 (ipykernel)",
   "language": "python",
   "name": "python3"
  },
  "language_info": {
   "codemirror_mode": {
    "name": "ipython",
    "version": 3
   },
   "file_extension": ".py",
   "mimetype": "text/x-python",
   "name": "python",
   "nbconvert_exporter": "python",
   "pygments_lexer": "ipython3",
   "version": "3.11.5"
  }
 },
 "nbformat": 4,
 "nbformat_minor": 5
}
