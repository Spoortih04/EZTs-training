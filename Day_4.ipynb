{
 "cells": [
  {
   "cell_type": "code",
   "execution_count": 1,
   "id": "e8af860e",
   "metadata": {},
   "outputs": [
    {
     "name": "stdout",
     "output_type": "stream",
     "text": [
      "enter text:-spoo\n"
     ]
    }
   ],
   "source": [
    "f1=open('spoorti_h.txt','w')  #w is used for the write\n",
    "str1=input(\"enter text:-\")\n",
    "f1.write(str1)\n",
    "\n",
    "#close the file\n",
    "f1.close()\n",
    "\n"
   ]
  },
  {
   "cell_type": "code",
   "execution_count": 2,
   "id": "8efa3391",
   "metadata": {},
   "outputs": [],
   "source": [
    "import os\n",
    "with open(\"spoorti_h.txt\",'wb') as f:\n",
    "    eid=1\n",
    "    name=\"bat\"\n",
    "    condition=\"good\"\n",
    "    s=f\"{eid},{name},{condition}\\n\"\n",
    "    f.write(s.encode())\n",
    "    f.close()"
   ]
  },
  {
   "cell_type": "code",
   "execution_count": 3,
   "id": "8670831e",
   "metadata": {},
   "outputs": [
    {
     "name": "stdout",
     "output_type": "stream",
     "text": [
      "A\n",
      "90\n",
      "89\n",
      "A 90 90\n"
     ]
    }
   ],
   "source": [
    "class STD:\n",
    "    def __init__(self,a,b,c):\n",
    "        self.name=a   #CALL BY VALUE    self.name=name ====#cALL BY REFERENCE\n",
    "        self.age=b\n",
    "        self.gen=b\n",
    "        \n",
    "a=input()\n",
    "b=input()\n",
    "c=input()\n",
    "\n",
    "st3=STD(a,b,c)\n",
    "print(st3.name,st3.age,st3.gen)     "
   ]
  },
  {
   "cell_type": "code",
   "execution_count": null,
   "id": "0c8ed4e0",
   "metadata": {},
   "outputs": [],
   "source": []
  }
 ],
 "metadata": {
  "kernelspec": {
   "display_name": "Python 3 (ipykernel)",
   "language": "python",
   "name": "python3"
  },
  "language_info": {
   "codemirror_mode": {
    "name": "ipython",
    "version": 3
   },
   "file_extension": ".py",
   "mimetype": "text/x-python",
   "name": "python",
   "nbconvert_exporter": "python",
   "pygments_lexer": "ipython3",
   "version": "3.11.5"
  }
 },
 "nbformat": 4,
 "nbformat_minor": 5
}
