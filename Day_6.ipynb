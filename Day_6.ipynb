{
 "cells": [
  {
   "cell_type": "markdown",
   "id": "b452d2b6",
   "metadata": {},
   "source": [
    "###.. In a dice game 2 players are playing P1 and P2. both player is rolling the dice one by one and \n",
    "getting score and that score is getting added to the total score of the player.\n",
    "\n",
    "A player can get a chace of rolling the dice again if his total Score is Disivible by 2 and dice \n",
    "face is not divisible by 2.\n",
    "\n",
    "If the player having the dice face and total Score both are even then the player will not get the\n",
    "chace of rolling the dice again.\n",
    "\n",
    "If the player Score is odd and the dice face is also odd then the dice face value will be \n",
    "decreased from the total socre of the player\n",
    "\n",
    "You will be given a list of 10 dice face number as input find the will and also print the total \n",
    "score of each player."
   ]
  },
  {
   "cell_type": "code",
   "execution_count": 2,
   "id": "117d80a8",
   "metadata": {},
   "outputs": [
    {
     "name": "stdout",
     "output_type": "stream",
     "text": [
      "3\n",
      "(5, 4, False)\n"
     ]
    }
   ],
   "source": [
    "def check_prime(m):\n",
    "    flag = 0\n",
    "    if m<1:\n",
    "        flag = 1\n",
    "    elif m == 1:\n",
    "        flag = 0\n",
    "    else:\n",
    "        for i in range(2,(m//2)+1):\n",
    "            if m%i == 0:\n",
    "                flag = 1\n",
    "                break\n",
    "    \n",
    "    if flag == 0:\n",
    "        return 1\n",
    "    else:\n",
    "        return 0\n",
    "\n",
    "result=[]\n",
    "N=int(input())\n",
    "flag=0\n",
    "k=N+1\n",
    "while flag<1:\n",
    "    flag = check_prime(k)\n",
    "    if flag == 1:\n",
    "        result.append(k)\n",
    "    else:\n",
    "        k=k+1\n",
    "\n",
    "sum = 0\n",
    "for i in range (N+1,k):\n",
    "    sum+=i\n",
    "\n",
    "result.append(sum)\n",
    "\n",
    "\n",
    "\n",
    "p1=k\n",
    "flag=0\n",
    "k=p1+1\n",
    "while flag<1:\n",
    "    flag = check_prime(k)\n",
    "    if flag == 1:\n",
    "        p2=k\n",
    "    else:\n",
    "        k=k+1\n",
    "\n",
    "p3=p1*p2\n",
    "flag=check_prime(p3)\n",
    "if flag == 0:\n",
    "    result.append(False)\n",
    "else:\n",
    "    result.append(True)\n",
    "\n",
    "Prime_key=tuple(result)\n",
    "\n",
    "print(Prime_key)"
   ]
  },
  {
   "cell_type": "code",
   "execution_count": 3,
   "id": "f5c6cd9a",
   "metadata": {},
   "outputs": [
    {
     "name": "stdout",
     "output_type": "stream",
     "text": [
      "spoorti\n",
      "['O']\n"
     ]
    }
   ],
   "source": [
    "S= input()\n",
    "dic = {'A':0,'E':0,'I':0,'O':0,'U':0}\n",
    "for i in S:\n",
    "    if i == 'a' or i == 'A':\n",
    "        dic['A'] += 1\n",
    "    elif i == 'e' or i == 'E':\n",
    "        dic['E'] += 1\n",
    "    elif i == 'i' or i == 'I':\n",
    "        dic['I'] += 1\n",
    "    elif i == 'o' or i == 'O':\n",
    "        dic['O'] += 1\n",
    "    elif i == 'u' or i == 'U':\n",
    "        dic['U'] += 1\n",
    "\n",
    "x=max(dic.values())\n",
    "result =[]\n",
    "for i,j in dic.items():\n",
    "    if j == x:\n",
    "        result.append(i)\n",
    "\n",
    "print(result)"
   ]
  },
  {
   "cell_type": "code",
   "execution_count": 4,
   "id": "77bde65f",
   "metadata": {},
   "outputs": [
    {
     "name": "stdout",
     "output_type": "stream",
     "text": [
      "{'Alex': ['I'], 'Sam': ['A'], 'Jamie': ['A', 'I'], 'Taylor': ['E'], 'Chris': ['I']}\n"
     ]
    }
   ],
   "source": [
    "def count_vowel(S):\n",
    "    dic = {'A':0,'E':0,'I':0,'O':0,'U':0}\n",
    "    for i in S:\n",
    "        if i == 'a' or i == 'A':\n",
    "            dic['A'] += 1\n",
    "        elif i == 'e' or i == 'E':\n",
    "            dic['E'] += 1\n",
    "        elif i == 'i' or i == 'I':\n",
    "            dic['I'] += 1\n",
    "        elif i == 'o' or i == 'O':\n",
    "            dic['O'] += 1\n",
    "        elif i == 'u' or i == 'U':\n",
    "            dic['U'] += 1\n",
    "    \n",
    "    x=max(dic.values())\n",
    "    result =[]\n",
    "    for i,j in dic.items():\n",
    "        if j == x:\n",
    "            result.append(i)\n",
    "    \n",
    "    return result\n",
    "\n",
    "\n",
    "\n",
    "i_p = [\n",
    "    [\"Alex\", \"I enjoy hiking in the mountains.\"],\n",
    "    [\"Sam\", \"A lovely sunny day at the beach.\"],\n",
    "    [\"Jamie\", \"Reading a book is my favorite pastime.\"],\n",
    "    [\"Taylor\", \"I love playing video games on weekends.\"],\n",
    "    [\"Chris\", \"Exploring new cities is exciting and fun.\"]\n",
    "]\n",
    "\n",
    "o_p = {}\n",
    "\n",
    "for i in i_p:\n",
    "    o_p[i[0]]= count_vowel(i[1])\n",
    "\n",
    "print(o_p)"
   ]
  },
  {
   "cell_type": "markdown",
   "id": "7dddfb97",
   "metadata": {},
   "source": [
    "### ..Given an interger array your task is to find the K continious digits which gives you the maximum sum.where K is entered by user\n",
    "\n",
    "sample input [2,4,3,5,6,3,4,6,7,1,2,5]\n",
    "\n",
    "output: [4,6,7]"
   ]
  },
  {
   "cell_type": "code",
   "execution_count": 6,
   "id": "b2070cdb",
   "metadata": {},
   "outputs": [
    {
     "name": "stdout",
     "output_type": "stream",
     "text": [
      "17 4 6 7\n"
     ]
    }
   ],
   "source": [
    "l=[2,4,3,5,6,3,4,6,7,1,2,5]\n",
    "sum = max = 0\n",
    "for i in range(0,len(l)-2):\n",
    "    sum = l[i]+l[i+1]+l[i+2]\n",
    "    if max<sum:\n",
    "        max = sum\n",
    "        pos=i\n",
    "\n",
    "print(max,l[pos],l[pos+1],l[pos+2])"
   ]
  },
  {
   "cell_type": "code",
   "execution_count": 7,
   "id": "08e64e5d",
   "metadata": {},
   "outputs": [
    {
     "name": "stdout",
     "output_type": "stream",
     "text": [
      "Enter the no of continious digit: 5\n",
      "12\n",
      "26\n",
      "6\n",
      "3\n",
      "4\n",
      "6\n",
      "7\n"
     ]
    }
   ],
   "source": [
    "l=[2,4,3,5,6,3,4,6,7,1,2,5]\n",
    "sum = max = 0\n",
    "k = int(input(\"Enter the no of continious digit: \"))\n",
    "print(len(l))\n",
    "for i in range(0,len(l)-k+1):\n",
    "    sum = 0\n",
    "    for j in range(0,k):\n",
    "        sum+=l[i+j]\n",
    "    if max<sum:\n",
    "        max = sum\n",
    "        pos=i\n",
    "\n",
    "print(max)\n",
    "for j in range(0,k):\n",
    "    print(l[pos+j])"
   ]
  },
  {
   "cell_type": "code",
   "execution_count": 1,
   "id": "ed7b7371",
   "metadata": {},
   "outputs": [
    {
     "name": "stdout",
     "output_type": "stream",
     "text": [
      "Enter the no of continious digit: 5\n",
      "12\n",
      "26\n",
      "6\n",
      "3\n",
      "4\n",
      "6\n",
      "7\n"
     ]
    }
   ],
   "source": [
    "l=[2,4,3,5,6,3,4,6,7,1,2,5]\n",
    "sum = max = 0\n",
    "k = int(input(\"Enter the no of continious digit: \"))\n",
    "print(len(l))\n",
    "for i in range(0,len(l)-k+1):\n",
    "    sum = 0\n",
    "    for j in range(0,k):\n",
    "        sum+=l[i+j]\n",
    "    if max<sum:\n",
    "        max = sum\n",
    "        pos=i\n",
    "\n",
    "print(max)\n",
    "for j in range(0,k):\n",
    "    print(l[pos+j])"
   ]
  },
  {
   "cell_type": "code",
   "execution_count": 5,
   "id": "36ea8e81",
   "metadata": {},
   "outputs": [
    {
     "name": "stdout",
     "output_type": "stream",
     "text": [
      "Enter the no of continious digit: 3\n",
      "result\n",
      "27\n",
      "9\n",
      "9\n",
      "9\n"
     ]
    }
   ],
   "source": [
    "l=[2,4,3,5,6,3,4,6,7,9,9,9]\n",
    "window = max = 0\n",
    "k = int(input(\"Enter the no of continious digit: \"))\n",
    "\n",
    "for j in range(0,k):\n",
    "        window+=l[j]\n",
    "l.append(0)\n",
    "for i in range(0,len(l)-k):\n",
    "    if max<window:\n",
    "        max=window\n",
    "        pos=i\n",
    "    window = window+l[i+k]-l[i]\n",
    "\n",
    "print(\"result\")\n",
    "print(max)\n",
    "for j in range(0,k):\n",
    "    print(l[pos+j])\n"
   ]
  },
  {
   "cell_type": "code",
   "execution_count": null,
   "id": "9e87e587",
   "metadata": {},
   "outputs": [],
   "source": []
  }
 ],
 "metadata": {
  "kernelspec": {
   "display_name": "Python 3 (ipykernel)",
   "language": "python",
   "name": "python3"
  },
  "language_info": {
   "codemirror_mode": {
    "name": "ipython",
    "version": 3
   },
   "file_extension": ".py",
   "mimetype": "text/x-python",
   "name": "python",
   "nbconvert_exporter": "python",
   "pygments_lexer": "ipython3",
   "version": "3.11.5"
  }
 },
 "nbformat": 4,
 "nbformat_minor": 5
}
