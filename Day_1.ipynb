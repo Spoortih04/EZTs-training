{
 "cells": [
  {
   "cell_type": "code",
   "execution_count": 1,
   "id": "85f71ced",
   "metadata": {},
   "outputs": [
    {
     "name": "stdout",
     "output_type": "stream",
     "text": [
      "5\n",
      "buzz\n"
     ]
    }
   ],
   "source": [
    "n=int(input())\n",
    "if(n%3==0):\n",
    "    if(n%5==0): \n",
    "        print(\"fizzbuzz\")\n",
    "    else:\n",
    "        print(\"buzz\")\n",
    "elif(n%5==0):\n",
    "    print(\"buzz\")"
   ]
  },
  {
   "cell_type": "code",
   "execution_count": 2,
   "id": "73e9e1d0",
   "metadata": {},
   "outputs": [
    {
     "name": "stdout",
     "output_type": "stream",
     "text": [
      "6\n",
      "fizz\n"
     ]
    }
   ],
   "source": [
    "n=int(input())\n",
    "if(n%3==0 and n%5==0):\n",
    "    print(\"fizzbuzz\")\n",
    "elif(n%3==0):\n",
    "     print(\"fizz\")\n",
    "elif(n%5==0):\n",
    "     print(\"buzz\")"
   ]
  },
  {
   "cell_type": "markdown",
   "id": "4ee201cb",
   "metadata": {},
   "source": [
    "### harshad number"
   ]
  },
  {
   "cell_type": "code",
   "execution_count": 3,
   "id": "3281d6e1",
   "metadata": {},
   "outputs": [
    {
     "name": "stdout",
     "output_type": "stream",
     "text": [
      "5\n",
      "harshad\n"
     ]
    }
   ],
   "source": [
    "def c_h_n(p):\n",
    "    sum=0\n",
    "    rem=0\n",
    "    while p!=0:\n",
    "        rem=p%10\n",
    "        sum=sum+rem\n",
    "        p=p//10\n",
    "    return sum\n",
    "a=int(input())\n",
    "sumofdigit=c_h_n(a)\n",
    "if a%sumofdigit==0:\n",
    "    print(\"harshad\")\n",
    "else:\n",
    "    print(\"not\")"
   ]
  },
  {
   "cell_type": "markdown",
   "id": "4261f042",
   "metadata": {},
   "source": [
    "### happy number"
   ]
  },
  {
   "cell_type": "code",
   "execution_count": 4,
   "id": "a7110596",
   "metadata": {},
   "outputs": [
    {
     "name": "stdout",
     "output_type": "stream",
     "text": [
      "2\n",
      "sad\n"
     ]
    }
   ],
   "source": [
    "def happy(p):\n",
    "    sum=0\n",
    "    rem=0\n",
    "    while p!=0:\n",
    "        rem=p%10\n",
    "        sum=sum+rem\n",
    "        p=p//10\n",
    "    return sum\n",
    "p=int(input())\n",
    "def happ(a):\n",
    "    while a>=10:\n",
    "        a=happy(a)\n",
    "    return happy(a)\n",
    "if happ(p)==1:\n",
    "    print(\"happy\")\n",
    "else:\n",
    "    print(\"sad\")"
   ]
  },
  {
   "cell_type": "markdown",
   "id": "538efb81",
   "metadata": {},
   "source": [
    "### list"
   ]
  },
  {
   "cell_type": "code",
   "execution_count": 5,
   "id": "80790cda",
   "metadata": {},
   "outputs": [
    {
     "name": "stdout",
     "output_type": "stream",
     "text": [
      "3\n",
      "4\n",
      "3\n",
      "4\n"
     ]
    }
   ],
   "source": [
    "a=[1,2,3,4,5]\n",
    "for i in range(1,4):\n",
    "    a[i-2]=a[i]\n",
    "for i in range(0,4):\n",
    "    print(a[i])\n",
    "    "
   ]
  },
  {
   "cell_type": "code",
   "execution_count": null,
   "id": "d70a9e7c",
   "metadata": {},
   "outputs": [],
   "source": []
  }
 ],
 "metadata": {
  "kernelspec": {
   "display_name": "Python 3 (ipykernel)",
   "language": "python",
   "name": "python3"
  },
  "language_info": {
   "codemirror_mode": {
    "name": "ipython",
    "version": 3
   },
   "file_extension": ".py",
   "mimetype": "text/x-python",
   "name": "python",
   "nbconvert_exporter": "python",
   "pygments_lexer": "ipython3",
   "version": "3.11.5"
  }
 },
 "nbformat": 4,
 "nbformat_minor": 5
}
