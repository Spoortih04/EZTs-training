{
 "cells": [
  {
   "cell_type": "markdown",
   "id": "63989179",
   "metadata": {},
   "source": [
    "### Hashing"
   ]
  },
  {
   "cell_type": "code",
   "execution_count": 5,
   "id": "01de7f5f",
   "metadata": {},
   "outputs": [
    {
     "name": "stdout",
     "output_type": "stream",
     "text": [
      "['Value10', 'Value20', 'Value30', None, None, 'Value25', None, None, None, None]\n"
     ]
    }
   ],
   "source": [
    "class LinearProbingHashTable:\n",
    "    def __init__(self, size):\n",
    "        self.size = size\n",
    "        self.table = [None] * size\n",
    "    \n",
    "    def hash_function(self, key):\n",
    "        return key % self.size\n",
    "\n",
    "    def linear_probe(self, key):\n",
    "        index = self.hash_function(key)\n",
    "        initial_index = index\n",
    "\n",
    "        while self.table[index] is not None:\n",
    "            index = (index + 1) % self.size\n",
    "            if index == initial_index:\n",
    "                raise Exception(\"Hash table is full\")\n",
    "        \n",
    "        return index\n",
    "\n",
    "    def insert(self, key, value):\n",
    "        index = self.linear_probe(key)\n",
    "        self.table[index] = value\n",
    "\n",
    "hash_table = LinearProbingHashTable(10)\n",
    "\n",
    "hash_table.insert(10, \"Value10\")\n",
    "hash_table.insert(20, \"Value20\")\n",
    "hash_table.insert(30, \"Value30\")\n",
    "hash_table.insert(25, \"Value25\") \n",
    "# Print the hash table to see the output\n",
    "print(hash_table.table)\n"
   ]
  },
  {
   "cell_type": "code",
   "execution_count": null,
   "id": "58934649",
   "metadata": {},
   "outputs": [],
   "source": []
  },
  {
   "cell_type": "code",
   "execution_count": null,
   "id": "83606f5d",
   "metadata": {},
   "outputs": [],
   "source": []
  },
  {
   "cell_type": "code",
   "execution_count": null,
   "id": "885b5257",
   "metadata": {},
   "outputs": [],
   "source": []
  },
  {
   "cell_type": "code",
   "execution_count": null,
   "id": "b530f8db",
   "metadata": {},
   "outputs": [],
   "source": []
  },
  {
   "cell_type": "code",
   "execution_count": null,
   "id": "68480135",
   "metadata": {},
   "outputs": [],
   "source": []
  }
 ],
 "metadata": {
  "kernelspec": {
   "display_name": "Python 3 (ipykernel)",
   "language": "python",
   "name": "python3"
  },
  "language_info": {
   "codemirror_mode": {
    "name": "ipython",
    "version": 3
   },
   "file_extension": ".py",
   "mimetype": "text/x-python",
   "name": "python",
   "nbconvert_exporter": "python",
   "pygments_lexer": "ipython3",
   "version": "3.11.5"
  }
 },
 "nbformat": 4,
 "nbformat_minor": 5
}
