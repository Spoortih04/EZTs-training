{
 "cells": [
  {
   "cell_type": "markdown",
   "id": "d87d8f0a",
   "metadata": {},
   "source": [
    "### bubble sort"
   ]
  },
  {
   "cell_type": "code",
   "execution_count": 6,
   "id": "c84e3edf",
   "metadata": {},
   "outputs": [
    {
     "name": "stdout",
     "output_type": "stream",
     "text": [
      "5 10 15 7 23\n",
      "[5, 7, 10, 15, 23]\n"
     ]
    }
   ],
   "source": [
    "L=list(map(int,input().split()))\n",
    "n=len(L)\n",
    "for j in range(0,n):\n",
    "    for i in range(0,n-1-j):\n",
    "        if L[i]>L[i+1]:\n",
    "            L[i],L[i+1]=L[i+1],L[i]\n",
    "print(L)"
   ]
  },
  {
   "cell_type": "markdown",
   "id": "f8fec46f",
   "metadata": {},
   "source": [
    "### selection sort"
   ]
  },
  {
   "cell_type": "code",
   "execution_count": 13,
   "id": "f74d951b",
   "metadata": {},
   "outputs": [
    {
     "name": "stdout",
     "output_type": "stream",
     "text": [
      "9 7 5 8 10 26 44 3 1\n",
      "[7, 7, 5, 7, 7, 7, 7, 7, 44]\n"
     ]
    }
   ],
   "source": [
    "L=list(map(int,input().split()))\n",
    "n=len(L)\n",
    "for i in range(n):\n",
    "    min_index=i\n",
    "    for j in range(i+1,n):                        #half wrong\n",
    "        if L[j]<L[min_index]:\n",
    "            min_index=j\n",
    "    L[i],L[min_index]=L[mid_index],L[i]\n",
    "print(L)"
   ]
  },
  {
   "cell_type": "code",
   "execution_count": 14,
   "id": "e76848ec",
   "metadata": {},
   "outputs": [
    {
     "name": "stdout",
     "output_type": "stream",
     "text": [
      "9 7 5 8 10 26 44 3 1\n",
      "[1, 3, 5, 7, 8, 9, 10, 26, 44]\n"
     ]
    }
   ],
   "source": [
    "L=list(map(int,input().split()))\n",
    "n=len(L)\n",
    "for j in range(0,n):\n",
    "    pos=j\n",
    "    min=L[j]\n",
    "    for i in range(j,n):\n",
    "        if L[i]<min:\n",
    "            min=L[i]\n",
    "            pos=i\n",
    "    L[j],L[pos]=L[pos],L[j]\n",
    "print(L)"
   ]
  },
  {
   "cell_type": "markdown",
   "id": "84e99d5a",
   "metadata": {},
   "source": [
    "## insertion sort"
   ]
  },
  {
   "cell_type": "markdown",
   "id": "beaeb21c",
   "metadata": {},
   "source": [
    "### recursionn FAB series"
   ]
  },
  {
   "cell_type": "code",
   "execution_count": 21,
   "id": "c7afb4af",
   "metadata": {},
   "outputs": [
    {
     "name": "stdout",
     "output_type": "stream",
     "text": [
      "5\n",
      "3\n",
      "[9]\n"
     ]
    }
   ],
   "source": [
    "def fib(n):\n",
    "    t[0]+=1\n",
    "    if n==1:\n",
    "        return 0\n",
    "    if n==2:\n",
    "        return 1\n",
    "    return fib(n-1)+fib(n-2)\n",
    "if __name__==\"__main__\":\n",
    "    t=[0]\n",
    "    n=int(input())\n",
    "    print(fib(n))\n",
    "    print(t)"
   ]
  },
  {
   "cell_type": "markdown",
   "id": "69598b54",
   "metadata": {},
   "source": [
    "## fact num"
   ]
  },
  {
   "cell_type": "code",
   "execution_count": 10,
   "id": "cafa6a6a",
   "metadata": {},
   "outputs": [
    {
     "name": "stdout",
     "output_type": "stream",
     "text": [
      "Enter a number: 4\n",
      "The factorial of 4 is: 24\n",
      "[24]\n"
     ]
    }
   ],
   "source": [
    "def factorial(n):\n",
    "    t[0]+=1\n",
    "    if n == 0:\n",
    "        return 1\n",
    "    return n * factorial(n-1)\n",
    "if __name__==\"__main__\":\n",
    "    n = int(input(\"Enter a number: \"))\n",
    "    print(f\"The factorial of {n} is: {factorial(n)}\")\n",
    "    print(t)"
   ]
  },
  {
   "cell_type": "code",
   "execution_count": 18,
   "id": "93971f9f",
   "metadata": {},
   "outputs": [
    {
     "name": "stdout",
     "output_type": "stream",
     "text": [
      "2\n",
      "0\n",
      "1\n",
      "None\n"
     ]
    }
   ],
   "source": [
    "def fib(n):\n",
    "    a=0\n",
    "    b=1\n",
    "    c=a+b\n",
    "    if n==1:\n",
    "        print(a)\n",
    "    elif n==2:\n",
    "        print(a)\n",
    "        print(b)\n",
    "    else:\n",
    "        print(a)\n",
    "        print(b)\n",
    "    for i in range(2,n):\n",
    "        print(c)\n",
    "        a=b\n",
    "        b=c\n",
    "        c=a+b\n",
    "if __name__==\"__main__\":\n",
    "    n=int(input())\n",
    "    print(fib(n))"
   ]
  },
  {
   "cell_type": "code",
   "execution_count": 19,
   "id": "ec4f7459",
   "metadata": {},
   "outputs": [
    {
     "name": "stdout",
     "output_type": "stream",
     "text": [
      "Enter the number of terms: 5\n",
      "[0, 1, 1, 2, 3]\n"
     ]
    }
   ],
   "source": [
    "def fib(n):\n",
    "    if n <= 0:\n",
    "        return []\n",
    "    elif n == 1:\n",
    "        return [0]\n",
    "    elif n == 2:\n",
    "        return [0, 1]\n",
    "    \n",
    "    sequence = [0, 1]\n",
    "    a, b = 0, 1\n",
    "    for _ in range(2, n):\n",
    "        c = a + b\n",
    "        sequence.append(c)\n",
    "        a, b = b, c\n",
    "    return sequence\n",
    "\n",
    "if __name__ == \"__main__\":\n",
    "    n = int(input(\"Enter the number of terms: \"))\n",
    "    result = fib(n)\n",
    "    print(result)\n"
   ]
  },
  {
   "cell_type": "markdown",
   "id": "bfb1a657",
   "metadata": {},
   "source": [
    "## Quick sort"
   ]
  },
  {
   "cell_type": "code",
   "execution_count": 2,
   "id": "b168d331",
   "metadata": {},
   "outputs": [
    {
     "name": "stdout",
     "output_type": "stream",
     "text": [
      "2 4 3 6 1 5\n",
      "0 5\n",
      "4 0 5\n",
      "0 0 3\n",
      "1 1 3\n",
      "3 2 3\n",
      "sorrted array [1, 2, 3, 4, 5, 6]\n"
     ]
    }
   ],
   "source": [
    "#L=list(map(int,input().split()))\n",
    "def divide(L,Low,High):\n",
    "    P=L[High]\n",
    "    Pi=High\n",
    "    j=Low-1\n",
    "    for i in range(Low,High):\n",
    "        if L[i]<=P:\n",
    "            j+=1\n",
    "            L[i],L[j]=L[j],L[i]\n",
    "    j+=1\n",
    "    L[j],L[Pi]=L[Pi],L[j]\n",
    "    Pi=j\n",
    "    return Pi\n",
    "def Quick_Sort(L,Low,High):\n",
    "    if Low<High:\n",
    "        Pi=divide(L,Low,High)\n",
    "        print(Pi,Low,High)\n",
    "        Quick_Sort(L,Low,Pi-1)\n",
    "        Quick_Sort(L,Pi+1,High)\n",
    "    return\n",
    "if __name__ == \"__main__\":\n",
    "    L=list(map(int,input().split()))\n",
    "    Low=0\n",
    "    High=len(L)-1\n",
    "    print(Low,High)\n",
    "    Quick_Sort(L,Low,High)\n",
    "    print(\"sorrted array\",L)"
   ]
  },
  {
   "cell_type": "markdown",
   "id": "f3176fb3",
   "metadata": {},
   "source": [
    "## Merge sort"
   ]
  },
  {
   "cell_type": "code",
   "execution_count": 1,
   "id": "6d32f919",
   "metadata": {},
   "outputs": [
    {
     "name": "stdout",
     "output_type": "stream",
     "text": [
      "2 5 4 6 1 3 8\n",
      "Sorted Array =  [1, 2, 3, 4, 5, 6, 8]\n"
     ]
    }
   ],
   "source": [
    "def merge(left,right):\n",
    "    i=j=0\n",
    "    temp=[]\n",
    "\n",
    "    while i<len(left) and j<len(right):\n",
    "        if left[i]<right[j]:\n",
    "            temp.append(left[i])\n",
    "            i+=1\n",
    "        else:\n",
    "            temp.append(right[j])\n",
    "            j+=1\n",
    "            \n",
    "    while i<len(left):\n",
    "        temp.append(left[i])\n",
    "        i+=1\n",
    "        \n",
    "    while j<len(right):\n",
    "        temp.append(right[j])\n",
    "        j+=1\n",
    "\n",
    "    return temp\n",
    "\n",
    "def mergesort(L):\n",
    "    if len(L) <= 1:\n",
    "        return L\n",
    "        \n",
    "    mid = len(L)//2\n",
    "    left=L[:mid] \n",
    "    right=L[mid:]\n",
    "    \n",
    "    left_sorted = mergesort(left)\n",
    "    right_sorted = mergesort(right)\n",
    "    \n",
    "    return merge(left_sorted,right_sorted)\n",
    "\n",
    "\n",
    "if __name__==\"__main__\":\n",
    "    L=list(map(int,input().split())) # 4 7 8 3 2 9 1 5\n",
    "    sorted=mergesort(L)\n",
    "\n",
    "    print(\"Sorted Array = \",sorted)\n",
    "    \n",
    "    "
   ]
  }
 ],
 "metadata": {
  "kernelspec": {
   "display_name": "Python 3 (ipykernel)",
   "language": "python",
   "name": "python3"
  },
  "language_info": {
   "codemirror_mode": {
    "name": "ipython",
    "version": 3
   },
   "file_extension": ".py",
   "mimetype": "text/x-python",
   "name": "python",
   "nbconvert_exporter": "python",
   "pygments_lexer": "ipython3",
   "version": "3.11.5"
  }
 },
 "nbformat": 4,
 "nbformat_minor": 5
}
