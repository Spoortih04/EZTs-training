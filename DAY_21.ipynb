{
 "cells": [
  {
   "cell_type": "markdown",
   "id": "f3201cfa",
   "metadata": {},
   "source": [
    "### heap\n",
    "Max heap "
   ]
  },
  {
   "cell_type": "code",
   "execution_count": 2,
   "id": "79d3a96b",
   "metadata": {},
   "outputs": [
    {
     "name": "stdout",
     "output_type": "stream",
     "text": [
      "Max Heap:\n",
      "[40, 30, 15, 10, 20]\n"
     ]
    }
   ],
   "source": [
    "import heapq\n",
    "\n",
    "class MaxHeap:\n",
    "    def __init__(self):\n",
    "        self.heap = []\n",
    "\n",
    "    def insert(self, key):\n",
    "        heapq.heappush(self.heap, -key) \n",
    "\n",
    "    def print_heap(self):\n",
    "        print([-x for x in self.heap])\n",
    "\n",
    "\n",
    "max_heap = MaxHeap()\n",
    "max_heap.insert(10)\n",
    "max_heap.insert(20)\n",
    "max_heap.insert(15)\n",
    "max_heap.insert(30)\n",
    "max_heap.insert(40)\n",
    "\n",
    "\n",
    "print(\"Max Heap:\")\n",
    "max_heap.print_heap()\n"
   ]
  }
 ],
 "metadata": {
  "kernelspec": {
   "display_name": "Python 3 (ipykernel)",
   "language": "python",
   "name": "python3"
  },
  "language_info": {
   "codemirror_mode": {
    "name": "ipython",
    "version": 3
   },
   "file_extension": ".py",
   "mimetype": "text/x-python",
   "name": "python",
   "nbconvert_exporter": "python",
   "pygments_lexer": "ipython3",
   "version": "3.11.5"
  }
 },
 "nbformat": 4,
 "nbformat_minor": 5
}
