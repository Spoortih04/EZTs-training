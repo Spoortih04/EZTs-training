{
 "cells": [
  {
   "cell_type": "code",
   "execution_count": 2,
   "id": "5fac7d02",
   "metadata": {},
   "outputs": [
    {
     "name": "stdout",
     "output_type": "stream",
     "text": [
      "Occurrences of 'ABCABC' found at indices: [12, 15, 18]\n"
     ]
    }
   ],
   "source": [
    "text = \"ABABACDEABABABCABCABCABCABDAA\"\n",
    "substring = \"ABCABC\"\n",
    "\n",
    "\n",
    "indices = [i for i in range(len(text)) if text.startswith(substring, i)]\n",
    "\n",
    "print(f\"Occurrences of '{substring}' found at indices: {indices}\")\n",
    "\n",
    "indices = [i for i in range(len(text)) if text.startswith(P, i)]\n",
    "print(f\"Occurrences of '{P}' found at indices: {indices}\")\n"
   ]
  },
  {
   "cell_type": "markdown",
   "id": "c19d62be",
   "metadata": {},
   "source": [
    "### KMPAlgo"
   ]
  },
  {
   "cell_type": "code",
   "execution_count": null,
   "id": "23660c94",
   "metadata": {},
   "outputs": [],
   "source": [
    "#bigocalc.com time complexity website"
   ]
  },
  {
   "cell_type": "code",
   "execution_count": 6,
   "id": "09182f8c",
   "metadata": {},
   "outputs": [
    {
     "name": "stdout",
     "output_type": "stream",
     "text": [
      "[0, 0, 0]\n",
      "pattern found 12\n"
     ]
    },
    {
     "ename": "IndexError",
     "evalue": "list index out of range",
     "output_type": "error",
     "traceback": [
      "\u001b[1;31m---------------------------------------------------------------------------\u001b[0m",
      "\u001b[1;31mIndexError\u001b[0m                                Traceback (most recent call last)",
      "Cell \u001b[1;32mIn[6], line 39\u001b[0m\n\u001b[0;32m     37\u001b[0m S\u001b[38;5;241m=\u001b[39m\u001b[38;5;124m\"\u001b[39m\u001b[38;5;124mABABACDEABABABCABCABCABCABDAA\u001b[39m\u001b[38;5;124m\"\u001b[39m\n\u001b[0;32m     38\u001b[0m P\u001b[38;5;241m=\u001b[39m\u001b[38;5;124m\"\u001b[39m\u001b[38;5;124mABCAB\u001b[39m\u001b[38;5;124m\"\u001b[39m\n\u001b[1;32m---> 39\u001b[0m KMPAlgo(P,S)\n",
      "Cell \u001b[1;32mIn[6], line 16\u001b[0m, in \u001b[0;36mKMPAlgo\u001b[1;34m(P, S)\u001b[0m\n\u001b[0;32m     14\u001b[0m \u001b[38;5;28;01mif\u001b[39;00m j\u001b[38;5;241m==\u001b[39mM:\n\u001b[0;32m     15\u001b[0m     \u001b[38;5;28mprint\u001b[39m(\u001b[38;5;124m\"\u001b[39m\u001b[38;5;124mpattern found\u001b[39m\u001b[38;5;124m\"\u001b[39m,i\u001b[38;5;241m-\u001b[39mj)\n\u001b[1;32m---> 16\u001b[0m     j\u001b[38;5;241m=\u001b[39mlps[j\u001b[38;5;241m-\u001b[39m\u001b[38;5;241m1\u001b[39m]\n\u001b[0;32m     17\u001b[0m \u001b[38;5;28;01melif\u001b[39;00m i\u001b[38;5;241m<\u001b[39mN \u001b[38;5;129;01mand\u001b[39;00m P[j]\u001b[38;5;241m!=\u001b[39mS[i]:\n\u001b[0;32m     18\u001b[0m     \u001b[38;5;28;01mif\u001b[39;00m j\u001b[38;5;241m!=\u001b[39m\u001b[38;5;241m0\u001b[39m:\n",
      "\u001b[1;31mIndexError\u001b[0m: list index out of range"
     ]
    }
   ],
   "source": [
    "def KMPAlgo(P,S):\n",
    "    M=len(P)\n",
    "    N=len(S)\n",
    "    lps=[]\n",
    "    LPS(P,M,lps)\n",
    "    print(lps)\n",
    "    i=0\n",
    "    j=0\n",
    "    while (N-i)>=(M-j):\n",
    "        if P[j]==S[i]:\n",
    "            i+=1\n",
    "            j+=1\n",
    "            \n",
    "        if j==M:\n",
    "            print(\"pattern found\",i-j)\n",
    "            j=lps[j-1]\n",
    "        elif i<N and P[j]!=S[i]:\n",
    "            if j!=0:\n",
    "                j=lps[j-1]\n",
    "            else:\n",
    "                i+=1\n",
    "            \n",
    "def LPS(P,M,lps): \n",
    "    lps.append(0)\n",
    "    L=[0]\n",
    "    j=0\n",
    "    for i in range(1,M):\n",
    "        if P[i]==P[j]:\n",
    "            L.append(j+1)\n",
    "            j=j+1\n",
    "        else:\n",
    "            j=0\n",
    "            lps.append(j)\n",
    "\n",
    "\n",
    "if __name__==\"__main__\":\n",
    "    S=\"ABABACDEABABABCABCABCABCABDAA\"\n",
    "    P=\"ABCAB\"\n",
    "    KMPAlgo(P,S)"
   ]
  },
  {
   "cell_type": "code",
   "execution_count": null,
   "id": "b316e89c",
   "metadata": {},
   "outputs": [],
   "source": [
    "#in python no array its having list"
   ]
  },
  {
   "cell_type": "code",
   "execution_count": 3,
   "id": "43ee98b8",
   "metadata": {},
   "outputs": [
    {
     "name": "stdout",
     "output_type": "stream",
     "text": [
      "LPS array: [0, 0, 0, 1, 2]\n"
     ]
    }
   ],
   "source": [
    "def lps_array(P):\n",
    "    m = len(P)\n",
    "    L = [0]  \n",
    "    j = 0  \n",
    "    for i in range(1, m):\n",
    "        if P[i] == P[j]:\n",
    "               j += 1\n",
    "        L.append(j)\n",
    "    return L\n",
    "\n",
    "text = \"ABABACDEABABABCABCABCABCABDAA\"\n",
    "P = \"ABCAB\"\n",
    "LPS = lps_array(P)\n",
    "print(\"LPS array:\", LPS)\n"
   ]
  },
  {
   "cell_type": "code",
   "execution_count": 3,
   "id": "b081047c",
   "metadata": {},
   "outputs": [
    {
     "name": "stdout",
     "output_type": "stream",
     "text": [
      "move 1 from A to C\n",
      "move 2 from A to B\n",
      "move 1 from C to B\n",
      "move 3 from A to C\n",
      "move 1 from B to A\n",
      "move 2 from B to C\n",
      "move 1 from A to C\n",
      "[7]\n"
     ]
    }
   ],
   "source": [
    "ctr=[0]\n",
    "def Tower(n,frm,to,aux,ctr):\n",
    "    if n==0:\n",
    "        return\n",
    "    Tower(n-1,frm,aux,to,ctr)\n",
    "    print(f\"move {n} from {frm} to {to}\")\n",
    "    ctr[0]+=1\n",
    "    Tower (n-1,aux,to,frm,ctr)\n",
    "n=3\n",
    "\n",
    "Tower(n,'A','C','B',ctr)\n",
    "print(ctr)"
   ]
  },
  {
   "cell_type": "code",
   "execution_count": null,
   "id": "ebe1bb85",
   "metadata": {},
   "outputs": [],
   "source": []
  }
 ],
 "metadata": {
  "kernelspec": {
   "display_name": "Python 3 (ipykernel)",
   "language": "python",
   "name": "python3"
  },
  "language_info": {
   "codemirror_mode": {
    "name": "ipython",
    "version": 3
   },
   "file_extension": ".py",
   "mimetype": "text/x-python",
   "name": "python",
   "nbconvert_exporter": "python",
   "pygments_lexer": "ipython3",
   "version": "3.11.5"
  }
 },
 "nbformat": 4,
 "nbformat_minor": 5
}
