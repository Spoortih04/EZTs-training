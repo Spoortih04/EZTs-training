{
 "cells": [
  {
   "cell_type": "markdown",
   "id": "3980ff76",
   "metadata": {},
   "source": [
    "### BODMAS"
   ]
  },
  {
   "cell_type": "code",
   "execution_count": null,
   "id": "d9b34380",
   "metadata": {},
   "outputs": [],
   "source": [
    "A Student is given a task to create some mathematical expression for BODMAS. but due to some other\n",
    "work he forgot to do that but in the night he clicked that he have to create some expression for\n",
    "BODMAS due to sleepy mood he did some mistake while putting the brackets. you job is to checK \n",
    "wether the expression give by that boy is Valid or not.\n",
    "\n",
    "Sample Input: [3+7{52/11(3+5)}] Valid expression as all the brackets are properly open and \n",
    "    close [4-6{235(9+6)] Invalid expression as some brackets are not proper."
   ]
  },
  {
   "cell_type": "code",
   "execution_count": 32,
   "id": "13ff539f",
   "metadata": {},
   "outputs": [
    {
     "name": "stdout",
     "output_type": "stream",
     "text": [
      "[10, 40, 30, 20]\n",
      "[10, 40, 30]\n"
     ]
    }
   ],
   "source": [
    "class Stack:\n",
    "    def __init__(self):\n",
    "        self.items=[]\n",
    "    def push(self,data):\n",
    "        self.items.append(data)\n",
    "    def pop(self):\n",
    "        return self.items.pop()\n",
    "st=Stack()\n",
    "st.push(10)\n",
    "st.push(40)\n",
    "st.push(30)\n",
    "st.push(20)\n",
    "print(st.items)\n",
    "st.pop()\n",
    "print(st.items)"
   ]
  },
  {
   "cell_type": "code",
   "execution_count": 23,
   "id": "6151f4c9",
   "metadata": {},
   "outputs": [
    {
     "name": "stdout",
     "output_type": "stream",
     "text": [
      "valid\n"
     ]
    }
   ],
   "source": [
    "class Stack:\n",
    "    def __init__(self):\n",
    "        self.items=[]\n",
    "    def push(self,data):\n",
    "        self.items.append(data)\n",
    "    def pop(self):\n",
    "        return self.items.pop()\n",
    "    \n",
    "#st.push(10)\n",
    "#st.push(40)\n",
    "#st.push(30)\n",
    "#st.push(20)\n",
    "#print(s.items)\n",
    "#st.pop()\n",
    "#print(s.pop())\n",
    "#print(s.items)\n",
    "#print(s.size())\n",
    "\n",
    "e=\"[3+7{5/11(3+5)}]\"\n",
    "s=Stack()\n",
    "OB=\"[{(\"\n",
    "Cb=\")}]\"\n",
    "flag=0\n",
    "for i in e:\n",
    "    if i in OB:\n",
    "        s.push(i)\n",
    "    if i in Cb:\n",
    "        x=s.pop()\n",
    "        if x==\"(\" and i==\")\":\n",
    "            pass\n",
    "        elif x==\"{\" and i==\"}\":\n",
    "            pass\n",
    "        elif x==\"[\" and i==\"]\":\n",
    "            pass\n",
    "        else:\n",
    "            flag==1\n",
    "if flag==0 :\n",
    "    print(\"valid\")\n",
    "else:\n",
    "    print(\"invalid\")\n"
   ]
  },
  {
   "cell_type": "code",
   "execution_count": 33,
   "id": "66458831",
   "metadata": {},
   "outputs": [
    {
     "name": "stdout",
     "output_type": "stream",
     "text": [
      "[10, 40, 30, 20]\n",
      "[40, 30, 20]\n"
     ]
    }
   ],
   "source": [
    "class Queue:\n",
    "    def __init__(self):\n",
    "        self.item=[]\n",
    "    def push(self,data):\n",
    "        self.item.append(data)\n",
    "    def pop(self):\n",
    "        return self.item.pop(0)\n",
    "    def size(self):\n",
    "        return len(self.item)\n",
    "s=Queue()\n",
    "s.push(10)\n",
    "s.push(40)\n",
    "s.push(30)\n",
    "s.push(20)\n",
    "print(s.item)\n",
    "s.pop()\n",
    "print(s.item)"
   ]
  },
  {
   "cell_type": "markdown",
   "id": "feeb9f54",
   "metadata": {},
   "source": [
    "### traversing"
   ]
  },
  {
   "cell_type": "code",
   "execution_count": null,
   "id": "097c98a9",
   "metadata": {},
   "outputs": [],
   "source": [
    "I a tyre factory many workers are working there each worker is assigned with a integer number\n",
    "which help them to find their Supervisor. the project Manager having an Array that consist of a\n",
    "integer numbers help the project Manager to find thier supervisors. Supervisor will be assinged as\n",
    "the first largest integer find on the right side of the array if not found return -1.\n",
    "\n"
   ]
  },
  {
   "cell_type": "code",
   "execution_count": 1,
   "id": "a3ab180c",
   "metadata": {},
   "outputs": [
    {
     "name": "stdout",
     "output_type": "stream",
     "text": [
      "[5, 14, 14, -1, 7, 7, 9, -1, 6, 9, -1, 5, 5, -1, -1]\n"
     ]
    }
   ],
   "source": [
    "class Stack:\n",
    "    def __init__(self):\n",
    "        self.items = []\n",
    "    def push(self,data):\n",
    "        self.items.append(data)\n",
    "    def pop(self):\n",
    "        return self.items.pop()\n",
    "    def size(self):\n",
    "        return len(self.items)\n",
    "    def top(self):\n",
    "        return self.items[-1]\n",
    "\n",
    "        \n",
    "L= [3,5,2,14,5,3,7,9,4,6,9,4,2,5,3]\n",
    "O=[0]*len(L)\n",
    "s= Stack()\n",
    "for i in range(len(L)-1,-1,-1):\n",
    "    if s.size() != 0:\n",
    "        while s.size() !=0 and s.top()<=L[i]:\n",
    "            if s.top() <= L[i]:\n",
    "                s.pop()\n",
    "    if s.size() == 0:\n",
    "        O[i]=-1\n",
    "    else:\n",
    "        O[i]=s.top()\n",
    "    s.push(L[i])\n",
    "print(O)\n",
    "        "
   ]
  },
  {
   "cell_type": "code",
   "execution_count": 2,
   "id": "acf617d2",
   "metadata": {},
   "outputs": [
    {
     "name": "stdout",
     "output_type": "stream",
     "text": [
      "<__main__.Node object at 0x0000011839C17490>\n",
      "<__main__.Node object at 0x0000011839C17A10>\n",
      "<__main__.Node object at 0x0000011839C17A10>\n",
      "10\n",
      "40\n",
      "30\n"
     ]
    }
   ],
   "source": [
    "#linked list\n",
    "\n",
    "class Node:\n",
    "    def __init__(self,data):\n",
    "        self.value=data\n",
    "        self.next=None\n",
    "        \n",
    "Head=Tail=Node(10)\n",
    "\n",
    "Tail.next=Node(20)\n",
    "Tail=Tail.next\n",
    "\n",
    "Tail.next=Node(30)\n",
    "Tail=Tail.next\n",
    "\n",
    "Tail.next=Node(40)\n",
    "Tail=Tail.next\n",
    "print(Head)\n",
    "print(Tail)\n",
    "print(Head.next.next.next)\n",
    "print(Head.value)\n",
    "print(Tail.value)\n",
    "print(Head.next.next.value)"
   ]
  },
  {
   "cell_type": "code",
   "execution_count": 7,
   "id": "725fa4d2",
   "metadata": {},
   "outputs": [
    {
     "name": "stdout",
     "output_type": "stream",
     "text": [
      "10\n",
      "20\n",
      "30\n",
      "40\n"
     ]
    }
   ],
   "source": [
    "def print_link_list(Head):\n",
    "    if Head==None:\n",
    "        print(\"empty list\")\n",
    "        return\n",
    "    curr=Head\n",
    "    while curr!=None:\n",
    "        print(curr.value)\n",
    "        curr=curr.next\n",
    "        \n",
    "print_link_list(Head)"
   ]
  },
  {
   "cell_type": "code",
   "execution_count": 8,
   "id": "d6e33676",
   "metadata": {},
   "outputs": [
    {
     "name": "stdout",
     "output_type": "stream",
     "text": [
      "20\n",
      "30\n",
      "40\n"
     ]
    }
   ],
   "source": [
    "def delete(Head):\n",
    "    Head=Head.next\n",
    "    return print_link_list(Head)\n",
    "delete(Head)"
   ]
  },
  {
   "cell_type": "code",
   "execution_count": 13,
   "id": "a61e91d3",
   "metadata": {},
   "outputs": [
    {
     "name": "stdout",
     "output_type": "stream",
     "text": [
      "Enter an expression  2+3\n",
      "The result is: 5.0\n"
     ]
    }
   ],
   "source": [
    "#google 2022\n",
    "s = input(\"Enter an expression  \")\n",
    "op = ['+', '-', '*', '/']\n",
    "for i in s:\n",
    "    if i in op:\n",
    "        x = i  \n",
    "        s = s.replace(i, \" \")\n",
    "L = list(map(float, s.split()))\n",
    "match x:\n",
    "    case '+':\n",
    "        result = L[0] + L[1]\n",
    "    case '-':\n",
    "        result = L[0] - L[1]\n",
    "    case '*':\n",
    "        result = L[0] * L[1]\n",
    "    case '/':\n",
    "        result = L[0] / L[1]\n",
    "    case _:\n",
    "        result = None  \n",
    "if result is not None:\n",
    "    print(f\"The result is: {result}\")\n",
    "else:\n",
    "    print(\"Invalid operator.\")\n"
   ]
  },
  {
   "cell_type": "code",
   "execution_count": null,
   "id": "35725f4b",
   "metadata": {},
   "outputs": [],
   "source": []
  }
 ],
 "metadata": {
  "kernelspec": {
   "display_name": "Python 3 (ipykernel)",
   "language": "python",
   "name": "python3"
  },
  "language_info": {
   "codemirror_mode": {
    "name": "ipython",
    "version": 3
   },
   "file_extension": ".py",
   "mimetype": "text/x-python",
   "name": "python",
   "nbconvert_exporter": "python",
   "pygments_lexer": "ipython3",
   "version": "3.11.5"
  }
 },
 "nbformat": 4,
 "nbformat_minor": 5
}
