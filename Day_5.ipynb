{
 "cells": [
  {
   "cell_type": "code",
   "execution_count": 1,
   "id": "58a2b624",
   "metadata": {},
   "outputs": [
    {
     "name": "stdout",
     "output_type": "stream",
     "text": [
      "3\n",
      "valid\n"
     ]
    }
   ],
   "source": [
    "#prime\n",
    "m=int(input())\n",
    "flag=1\n",
    "for i in range(1,m):    #for i in range(2,(m//2)+1)\n",
    "    if m%i==0:\n",
    "        flag=1\n",
    "        break\n",
    "        \n",
    "if flag==0:\n",
    "    print(\"invald\")\n",
    "else:\n",
    "    print(\"valid\")"
   ]
  },
  {
   "cell_type": "code",
   "execution_count": 2,
   "id": "eb15455e",
   "metadata": {},
   "outputs": [
    {
     "name": "stdout",
     "output_type": "stream",
     "text": [
      "5\n",
      "0\n",
      "1\n",
      "1\n",
      "2\n",
      "3\n"
     ]
    }
   ],
   "source": [
    "#fibo\n",
    "n=int(input())\n",
    "a=0\n",
    "b=1\n",
    "c=a+b\n",
    "if n==1:\n",
    "    print(a)\n",
    "elif n==2:\n",
    "    print(a)\n",
    "    print(b)\n",
    "else:\n",
    "    print(a)\n",
    "    print(b)\n",
    "for i in range(2,n):\n",
    "        print(c)\n",
    "        a=b\n",
    "        b=c\n",
    "        c=a+b\n",
    "   "
   ]
  },
  {
   "cell_type": "markdown",
   "id": "75ffb423",
   "metadata": {},
   "source": [
    "###..Context: A leading aerospace company, OrbitTech, is developing a satellite communication system\n",
    "that relies heavily on secure data transmission. The encryption keys used for securing \n",
    "communication between satellites and ground stations are generated based on prime numbers. \n",
    "To ensure the integrity and security of these keys, it is crucial to verify the primality of \n",
    "large numbers efficiently in real-time.\n",
    "\n",
    "Scenario: OrbitTech's satellite communication system requires real-time verification of prime numbers during the generation of encryption keys. Given the high-stakes nature of satellite data transmission, any delay or error in prime verification could compromise the security and efficiency of the system. Therefore, OrbitTech needs a reliable and efficient solution to check if given numbers are prime."
   ]
  },
  {
   "cell_type": "code",
   "execution_count": 6,
   "id": "77f60ad7",
   "metadata": {},
   "outputs": [
    {
     "name": "stdout",
     "output_type": "stream",
     "text": [
      "Enter the message: 3\n",
      "Valid Messgae\n"
     ]
    }
   ],
   "source": [
    "m = int(input(\"Enter the message: \"))\n",
    "flag = 0\n",
    "if m<1:\n",
    "    flag = 1\n",
    "elif m == 1:\n",
    "    flag = 0\n",
    "else:\n",
    "    for i in range(2,(m//2)+1):\n",
    "        if m%i == 0:\n",
    "            flag = 1\n",
    "            break\n",
    "    \n",
    "if flag == 0:\n",
    "    print(\"Valid Messgae\")\n",
    "else:\n",
    "    print(\"invalid Message\")\n",
    "    "
   ]
  },
  {
   "cell_type": "markdown",
   "id": "6b1009d6",
   "metadata": {},
   "source": [
    "###.. Context: A financial services company, FutureInvest, uses advanced mathematical models to \n",
    "forecast market trends and make investment decisions. One of the models they use is based on the\n",
    "Fibonacci sequence due to its relevance in technical analysis, particularly in identifying \n",
    "retracement levels and predicting future price movements. Scenario: FutureInvest analysts need a \n",
    "reliable tool that can generate the Fibonacci sequence up to a specified number of terms. This \n",
    "tool will help them in creating Fibonacci retracement levels, which are critical for predicting \n",
    "potential reversal points in the financial markets. The accuracy and efficiency of generating \n",
    "these sequences are crucial for timely and effective decision-making."
   ]
  },
  {
   "cell_type": "code",
   "execution_count": 7,
   "id": "fb617ddc",
   "metadata": {},
   "outputs": [
    {
     "name": "stdout",
     "output_type": "stream",
     "text": [
      "Enter the no of terms: 3\n",
      "0\n",
      "1\n",
      "1\n"
     ]
    }
   ],
   "source": [
    "n= int(input(\"Enter the no of terms: \"))\n",
    "\n",
    "a=0\n",
    "b=1\n",
    "c=a+b\n",
    "if n==1:\n",
    "    print(a)\n",
    "elif n==2:\n",
    "    print(a)\n",
    "    print(b)\n",
    "else:\n",
    "    print(a)\n",
    "    print(b)\n",
    "    for i in range(2,n):\n",
    "        print(c)\n",
    "        a=b\n",
    "        b=c\n",
    "        c=a+b"
   ]
  },
  {
   "cell_type": "code",
   "execution_count": null,
   "id": "39a8cf5d",
   "metadata": {},
   "outputs": [],
   "source": []
  }
 ],
 "metadata": {
  "kernelspec": {
   "display_name": "Python 3 (ipykernel)",
   "language": "python",
   "name": "python3"
  },
  "language_info": {
   "codemirror_mode": {
    "name": "ipython",
    "version": 3
   },
   "file_extension": ".py",
   "mimetype": "text/x-python",
   "name": "python",
   "nbconvert_exporter": "python",
   "pygments_lexer": "ipython3",
   "version": "3.11.5"
  }
 },
 "nbformat": 4,
 "nbformat_minor": 5
}
